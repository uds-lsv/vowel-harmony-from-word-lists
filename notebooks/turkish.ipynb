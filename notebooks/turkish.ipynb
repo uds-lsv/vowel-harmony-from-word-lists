{
 "cells": [
  {
   "cell_type": "code",
   "execution_count": 1,
   "metadata": {},
   "outputs": [],
   "source": [
    "from pathlib import Path\n",
    "from matplotlib import pyplot as plt\n",
    "import numpy as np\n",
    "from scipy.stats import shapiro\n",
    "\n",
    "from eff.analysis import mann_whitney_test, wilcoxon_signed_rank_test\n",
    "from eff.analysis.plotting import set_lang_ax\n",
    "from eff.util.util import load_results"
   ]
  },
  {
   "cell_type": "code",
   "execution_count": 2,
   "metadata": {},
   "outputs": [],
   "source": [
    "base_path = Path(\"./out/nelex_unique\")\n",
    "dataset, res, criterion, model = load_results(base_path, 'tur')\n",
    "fontsize=18"
   ]
  },
  {
   "cell_type": "code",
   "execution_count": 3,
   "metadata": {},
   "outputs": [],
   "source": [
    "# harmonic groups\n",
    "front_vowels = ['œ', 'i', 'ɛ', 'y']\n",
    "back_vowels = ['o', 'u', 'a', 'ɯ']\n",
    "rounded_vowels = ['o', 'œ', 'y', 'u']\n",
    "unrounded_vowels = ['i', 'ɛ', 'a', 'ɯ']"
   ]
  },
  {
   "cell_type": "code",
   "execution_count": 4,
   "metadata": {},
   "outputs": [
    {
     "name": "stdout",
     "output_type": "stream",
     "text": [
      "-3.1501749663321577\n",
      "-4.072919907147765\n",
      "-0.8602017606151144\n"
     ]
    }
   ],
   "source": [
    "# model probe front harmony (feature surprisal)\n",
    "clts_ds = dataset['clts']\n",
    "bipa = clts_ds.bipa\n",
    "output_alphabet = clts_ds.output_alphabet\n",
    "logprobs = res['unmasked']['logprobs']\n",
    "targets = res['unmasked']['targets']\n",
    "target_indices = res['unmasked']['indices']\n",
    "\n",
    "front_indices = [output_alphabet.char2idx(v) for v in front_vowels]\n",
    "back_indices = [output_alphabet.char2idx(v) for v in back_vowels]\n",
    "\n",
    "ff_surprisal = []\n",
    "bb_surprisal = []\n",
    "fb_surprisal = []\n",
    "bf_surprisal = []\n",
    "\n",
    "\n",
    "for indices_word, targets_word, logprobs_word in zip(target_indices, targets, logprobs):\n",
    "    vowel_indices = [targets_word[idx] for idx in indices_word]\n",
    "    if len(vowel_indices) >= 2:\n",
    "        for i in range(len(vowel_indices)-1, 0, -1):\n",
    "            idx = vowel_indices[i]\n",
    "            prev_idx = vowel_indices[i-1]\n",
    "            target_idx = indices_word[i] # first index of the logprobs\n",
    "            # need char to determine harmonic group\n",
    "            vowel = output_alphabet.idx2char(idx)\n",
    "            prev_vowel = output_alphabet.idx2char(prev_idx)\n",
    "\n",
    "            if not clts_ds.bipa[vowel].type == 'diphthong' \\\n",
    "            and not clts_ds.bipa[vowel].type == 'diphthong':\n",
    "\n",
    "                if prev_vowel in front_vowels:\n",
    "                    target_logprobs = logprobs_word[target_idx]\n",
    "                    harmonic_surprisal = sum([2**(-l) for i, l in enumerate(target_logprobs) if i in front_indices])\n",
    "                    disharmonic_surprisal = sum([2**(-l) for i, l in enumerate(target_logprobs) if i in back_indices])\n",
    "                    harmonic_surprisal = -np.log2(harmonic_surprisal)\n",
    "                    disharmonic_surprisal = -np.log2(disharmonic_surprisal)\n",
    "                    ff_surprisal.append(harmonic_surprisal)\n",
    "                    fb_surprisal.append(disharmonic_surprisal)\n",
    "                elif prev_vowel in back_vowels:\n",
    "                    target_logprobs = logprobs_word[target_idx]\n",
    "                    harmonic_surprisal = sum([2**(-l) for i, l in enumerate(target_logprobs) if i in back_indices])\n",
    "                    disharmonic_surprisal = sum([2**(-l) for i, l in enumerate(target_logprobs) if i in front_indices])\n",
    "                    harmonic_surprisal = -np.log2(harmonic_surprisal)\n",
    "                    disharmonic_surprisal = -np.log2(disharmonic_surprisal)\n",
    "                    bb_surprisal.append(harmonic_surprisal)\n",
    "                    bf_surprisal.append(disharmonic_surprisal)\n",
    "\n",
    "\n",
    "n_ff = len(ff_surprisal)\n",
    "n_fb = len(fb_surprisal)\n",
    "n_bb = len(bb_surprisal)\n",
    "n_bf = len(bf_surprisal)\n",
    "\n",
    "front_harmonic_surprisal = ff_surprisal + bb_surprisal\n",
    "front_disharmonic_surprisal = fb_surprisal + bf_surprisal\n",
    "\n",
    "delta_mean_f = np.mean(ff_surprisal) - np.mean(fb_surprisal)\n",
    "delta_mean_b = np.mean(bb_surprisal) - np.mean(bf_surprisal)\n",
    "delta_mean_disharmonic = np.mean(fb_surprisal) - np.mean(bf_surprisal)\n",
    "print(delta_mean_f)\n",
    "print(delta_mean_b)\n",
    "print(delta_mean_disharmonic)"
   ]
  },
  {
   "cell_type": "code",
   "execution_count": 5,
   "metadata": {},
   "outputs": [
    {
     "name": "stdout",
     "output_type": "stream",
     "text": [
      "ShapiroResult(statistic=0.46787750720977783, pvalue=3.7130978316121894e-34)\n",
      "ShapiroResult(statistic=0.9726504683494568, pvalue=2.396661784587195e-07)\n",
      "ShapiroResult(statistic=0.4243393540382385, pvalue=3.5000046536491964e-24)\n",
      "ShapiroResult(statistic=0.8933473229408264, pvalue=2.6346300141533163e-10)\n",
      "ShapiroResult(statistic=0.5228880643844604, pvalue=1.0211265773999152e-25)\n",
      "ShapiroResult(statistic=0.9622750282287598, pvalue=3.237613100282033e-06)\n"
     ]
    }
   ],
   "source": [
    "print(shapiro(front_harmonic_surprisal))\n",
    "print(shapiro(front_disharmonic_surprisal))\n",
    "\n",
    "print(shapiro(ff_surprisal))\n",
    "print(shapiro(fb_surprisal))\n",
    "print(shapiro(bb_surprisal))\n",
    "print(shapiro(bf_surprisal))"
   ]
  },
  {
   "cell_type": "code",
   "execution_count": 6,
   "metadata": {},
   "outputs": [
    {
     "name": "stdout",
     "output_type": "stream",
     "text": [
      "f\\_f/f\\_b & -3.1502 &  429.0 & 1.653436986585943e-29 & 0.0244 & Wilcoxon \\\\\n",
      "b\\_b/b\\_f & -4.0729 & 258.0 & 4.251651709333522e-42 & 0.008 & Wilcoxon \\\\\n",
      "f\\_b/b\\_f & -0.8602 & 14301.0 & 9.154890389761678e-13 & -0.3978 & Mann-Whitney \\\\\n"
     ]
    }
   ],
   "source": [
    "# significance test +-BACK harmony\n",
    "U, p_value, r = wilcoxon_signed_rank_test(ff_surprisal, fb_surprisal)\n",
    "print(\"f\\_f/f\\_b & {} &  {} & {} & {} & Wilcoxon \\\\\\\\\".format(round(delta_mean_f, 4), U, p_value, round(r, 4)))\n",
    "U, p_value, r = wilcoxon_signed_rank_test(bb_surprisal, bf_surprisal)\n",
    "print(\"b\\_b/b\\_f & {} & {} & {} & {} & Wilcoxon \\\\\\\\\".format(round(delta_mean_b, 4), U, p_value, round(r, 4)))\n",
    "U, p_value, r = mann_whitney_test(fb_surprisal, bf_surprisal)\n",
    "print(\"f\\_b/b\\_f & {} & {} & {} & {} & Mann-Whitney \\\\\\\\\".format(round(delta_mean_disharmonic, 4), U, p_value, round(r, 4)))"
   ]
  },
  {
   "cell_type": "code",
   "execution_count": 7,
   "metadata": {},
   "outputs": [
    {
     "name": "stdout",
     "output_type": "stream",
     "text": [
      "-1.0515745393766907\n",
      "-3.1501749663321577\n",
      "-1.582655192467608\n"
     ]
    }
   ],
   "source": [
    "# model probe roundedness harmony (feature surprisal)\n",
    "rr_surprisal = []\n",
    "uu_surprisal = []\n",
    "ur_surprisal = []\n",
    "ru_surprisal = []\n",
    "\n",
    "rounded_indices = [output_alphabet.char2idx(v) for v in rounded_vowels]\n",
    "unrounded_indices = [output_alphabet.char2idx(v) for v in unrounded_vowels]\n",
    "\n",
    "\n",
    "for indices_word, targets_word, logprobs_word in zip(target_indices, targets, logprobs):\n",
    "    vowel_indices = [targets_word[idx] for idx in indices_word]\n",
    "    if len(vowel_indices) >= 2:\n",
    "        for i in range(len(vowel_indices)-1, 0, -1):\n",
    "            idx = vowel_indices[i]\n",
    "            prev_idx = vowel_indices[i-1]\n",
    "            target_idx = indices_word[i] # first index of the logprobs\n",
    "            # need char to determine harmonic group\n",
    "            vowel = output_alphabet.idx2char(idx)\n",
    "            prev_vowel = output_alphabet.idx2char(prev_idx)\n",
    "\n",
    "            if not clts_ds.bipa[vowel].type == 'diphthong' \\\n",
    "            and not clts_ds.bipa[vowel].type == 'diphthong':\n",
    "\n",
    "                if prev_vowel in rounded_vowels:\n",
    "                    target_logprobs = logprobs_word[target_idx]\n",
    "                    harmonic_surprisal = sum([2**(-l) for i, l in enumerate(target_logprobs) if i in rounded_indices])\n",
    "                    disharmonic_surprisal = sum([2**(-l) for i, l in enumerate(target_logprobs) if i in unrounded_indices])\n",
    "                    harmonic_surprisal = -np.log2(harmonic_surprisal)\n",
    "                    disharmonic_surprisal = -np.log2(disharmonic_surprisal)\n",
    "                    rr_surprisal.append(harmonic_surprisal)\n",
    "                    ru_surprisal.append(disharmonic_surprisal)\n",
    "                elif prev_vowel in unrounded_vowels:\n",
    "                    target_logprobs = logprobs_word[target_idx]\n",
    "                    harmonic_surprisal = sum([2**(-l) for i, l in enumerate(target_logprobs) if i in unrounded_indices])\n",
    "                    disharmonic_surprisal = sum([2**(-l) for i, l in enumerate(target_logprobs) if i in rounded_indices])\n",
    "                    harmonic_surprisal = -np.log2(harmonic_surprisal)\n",
    "                    disharmonic_surprisal = -np.log2(disharmonic_surprisal)\n",
    "                    uu_surprisal.append(harmonic_surprisal)\n",
    "                    ur_surprisal.append(disharmonic_surprisal)\n",
    "\n",
    "\n",
    "n_rr = len(rr_surprisal)\n",
    "n_ru = len(ru_surprisal)\n",
    "n_uu = len(uu_surprisal)\n",
    "n_ur = len(ur_surprisal)\n",
    "\n",
    "rounded_harmonic_surprisal = rr_surprisal + uu_surprisal\n",
    "rounded_disharmonic_surprisal = ru_surprisal + ur_surprisal\n",
    "\n",
    "delta_mean_r = np.mean(rr_surprisal) - np.mean(ru_surprisal)\n",
    "delta_mean_u = np.mean(uu_surprisal) - np.mean(ur_surprisal)\n",
    "delta_mean_disharmonic = np.mean(ru_surprisal) - np.mean(ur_surprisal)\n",
    "print(delta_mean_r)\n",
    "print(delta_mean_f)\n",
    "print(delta_mean_disharmonic)"
   ]
  },
  {
   "cell_type": "code",
   "execution_count": 8,
   "metadata": {},
   "outputs": [
    {
     "name": "stdout",
     "output_type": "stream",
     "text": [
      "ShapiroResult(statistic=0.5292544364929199, pvalue=1.2723186450051685e-32)\n",
      "ShapiroResult(statistic=0.987420380115509, pvalue=0.000741108669899404)\n",
      "ShapiroResult(statistic=0.6642023324966431, pvalue=1.00964538379128e-13)\n",
      "ShapiroResult(statistic=0.9698960781097412, pvalue=0.022746438160538673)\n",
      "ShapiroResult(statistic=0.7229400277137756, pvalue=1.930881900390625e-23)\n",
      "ShapiroResult(statistic=0.9698960781097412, pvalue=0.022746438160538673)\n"
     ]
    }
   ],
   "source": [
    "print(shapiro(rounded_harmonic_surprisal))\n",
    "print(shapiro(rounded_disharmonic_surprisal))\n",
    "\n",
    "print(shapiro(rr_surprisal))\n",
    "print(shapiro(ru_surprisal))\n",
    "print(shapiro(uu_surprisal))\n",
    "print(shapiro(ru_surprisal))"
   ]
  },
  {
   "cell_type": "code",
   "execution_count": 9,
   "metadata": {},
   "outputs": [
    {
     "name": "stdout",
     "output_type": "stream",
     "text": [
      "r\\_r/r\\_u & -1.0516 &  1107.0 & 1.799281583001314e-06 & 0.2236 & Wilcoxon \\\\\n",
      "u\\_u/u\\_r & -3.185 & 10.0 & 8.99382921698032e-58 & 0.0002 & Wilcoxon \\\\\n",
      "r\\_u/u\\_r & -1.5827 & 6339.0 & 2.4815610840567342e-21 & -0.6256 & Mann-Whitney \\\\\n"
     ]
    }
   ],
   "source": [
    "# significance tests +-ROUND harmony\n",
    "U, p_value, r = wilcoxon_signed_rank_test(rr_surprisal, ru_surprisal)\n",
    "print(\"r\\_r/r\\_u & {} &  {} & {} & {} & Wilcoxon \\\\\\\\\".format(round(delta_mean_r, 4), U, p_value, round(r, 4)))\n",
    "U, p_value, r = wilcoxon_signed_rank_test(uu_surprisal, ur_surprisal)\n",
    "print(\"u\\_u/u\\_r & {} & {} & {} & {} & Wilcoxon \\\\\\\\\".format(round(delta_mean_u, 4), U, p_value, round(r, 4)))\n",
    "U, p_value, r = mann_whitney_test(ru_surprisal, ur_surprisal)\n",
    "print(\"r\\_u/u\\_r & {} & {} & {} & {} & Mann-Whitney \\\\\\\\\".format(round(delta_mean_disharmonic, 4), U, p_value, round(r, 4)))"
   ]
  },
  {
   "cell_type": "code",
   "execution_count": 10,
   "metadata": {},
   "outputs": [
    {
     "name": "stdout",
     "output_type": "stream",
     "text": [
      "f\\_h/dish & -3.6816 &  1348.0 & 4.708631933674632e-70 & 0.0138 & Wilcoxon \\\\\n",
      "r\\_h/dish & -2.7061 & 3473.0 & 4.5024920680920086e-64 & 0.0356 & Wilcoxon \\\\\n",
      "f/r\\_dish & 0.8555 & 132794.0 & 5.546560949580453e-21 & 0.3656 & Mann-Whitney\\\\\n"
     ]
    }
   ],
   "source": [
    "# significance tests +-BACK vs +-ROUND harmony\n",
    "delta_mean_front = np.mean(front_harmonic_surprisal) - np.mean(front_disharmonic_surprisal)\n",
    "delta_mean_rounded = np.mean(rounded_harmonic_surprisal) - np.mean(rounded_disharmonic_surprisal)\n",
    "delta_mean_disharmonic = np.mean(front_disharmonic_surprisal) - np.mean(rounded_disharmonic_surprisal)\n",
    "U, p_value, r = wilcoxon_signed_rank_test(front_harmonic_surprisal, front_disharmonic_surprisal)\n",
    "print(\"f\\_h/dish & {} &  {} & {} & {} & Wilcoxon \\\\\\\\\".format(round(delta_mean_front, 4), U, p_value, round(r, 4)))\n",
    "U, p_value, r = wilcoxon_signed_rank_test(rounded_harmonic_surprisal, rounded_disharmonic_surprisal)\n",
    "print(\"r\\_h/dish & {} & {} & {} & {} & Wilcoxon \\\\\\\\\".format(round(delta_mean_rounded, 4), U, p_value, round(r, 4)))\n",
    "U, p_value, r = mann_whitney_test(front_disharmonic_surprisal, rounded_disharmonic_surprisal)\n",
    "print(\"f/r\\_dish & {} & {} & {} & {} & Mann-Whitney\\\\\\\\\".format(round(delta_mean_disharmonic, 4), U, p_value, round(r, 4)))"
   ]
  },
  {
   "cell_type": "code",
   "execution_count": 11,
   "metadata": {},
   "outputs": [
    {
     "data": {
      "image/png": "[encoded data removed]",
      "text/plain": [
       "<Figure size 864x576 with 1 Axes>"
      ]
     },
     "metadata": {
      "needs_background": "light"
     },
     "output_type": "display_data"
    }
   ],
   "source": [
    "fig = plt.figure(figsize=(12, 8))\n",
    "gs = fig.add_gridspec(1, 1, hspace=0.15, wspace=0.25)\n",
    "ax = gs.subplots()\n",
    "\n",
    "ax.set_ylim([0,8.5])\n",
    "\n",
    "\n",
    "data = [\n",
    "    front_harmonic_surprisal,\n",
    "    front_disharmonic_surprisal,\n",
    "    rounded_harmonic_surprisal,\n",
    "    rounded_disharmonic_surprisal\n",
    "]\n",
    "xlabels = [\n",
    "    \"b_h\\nN={}\".format(len(front_harmonic_surprisal)),\n",
    "    \"b_dish\\nN={}\".format(len(front_disharmonic_surprisal)),\n",
    "    \"r_h\\nN={}\".format(len(rounded_harmonic_surprisal)),\n",
    "    \"r_dish\\nN={}\".format(len(rounded_disharmonic_surprisal))\n",
    "]\n",
    "\n",
    "set_lang_ax(ax, data, xlabels, \n",
    "    title=None,\n",
    "    boxcolor='lightgrey',\n",
    "    fontsize=fontsize,\n",
    "    ylabel=\"feature_surprisal\"\n",
    ")\n",
    "\n",
    "# significance front harmonic/disharmonic\n",
    "x1, x2 = 1, 2\n",
    "y, h, col = max(front_disharmonic_surprisal) + 0.2, 0.2, 'k'\n",
    "plt.plot([x1, x1, x2, x2], [y, y+h, y+h, y], lw=1.5, c=col)\n",
    "plt.text((x1+x2)*.5, y+h, r\"$\\bf{**}$\", ha='center', va='bottom', color=col, fontsize=15)\n",
    "\n",
    "# significance rounded harmonic/disharmonic\n",
    "x1, x2 = 3, 4\n",
    "y, h, col = max(rounded_disharmonic_surprisal) + 0.2, 0.2, 'k'\n",
    "plt.plot([x1, x1, x2, x2], [y, y+h, y+h, y], lw=1.5, c=col)\n",
    "plt.text((x1+x2)*.5, y+h, r\"$\\bf{**}$\", ha='center', va='bottom', color=col, fontsize=15)\n",
    "\n",
    "plt.savefig(\"../img/surprisal_harmonic_disharmonic2_tur.png\",\n",
    "        bbox_inches='tight',\n",
    "        pad_inches=0,\n",
    "        format='png',\n",
    "        dpi=300)"
   ]
  },
  {
   "cell_type": "code",
   "execution_count": 12,
   "metadata": {},
   "outputs": [
    {
     "name": "stdout",
     "output_type": "stream",
     "text": [
      "(826.0, 3.6125133562663957e-57, -0.9527581572249706)\n",
      "(733.0, 5.7846625593841425e-81, -0.9772769545539091)\n"
     ]
    }
   ],
   "source": [
    "res = mann_whitney_test(ff_surprisal, fb_surprisal)\n",
    "print(res)\n",
    "res = mann_whitney_test(bb_surprisal, bf_surprisal)\n",
    "print(res)"
   ]
  },
  {
   "cell_type": "code",
   "execution_count": 13,
   "metadata": {},
   "outputs": [
    {
     "data": {
      "image/png": "[encoded data removed]",
      "text/plain": [
       "<Figure size 864x576 with 1 Axes>"
      ]
     },
     "metadata": {
      "needs_background": "light"
     },
     "output_type": "display_data"
    }
   ],
   "source": [
    "fig = plt.figure(figsize=(12, 8))\n",
    "gs = fig.add_gridspec(1, 1, hspace=0.15, wspace=0.25)\n",
    "ax = gs.subplots()\n",
    "\n",
    "ax.set_ylim([0,8.5])\n",
    "\n",
    "data = [\n",
    "    ff_surprisal, \n",
    "    fb_surprisal, \n",
    "    bb_surprisal,\n",
    "    bf_surprisal \n",
    "]\n",
    "xlabels = [\n",
    "    \"f_f\\nN={}\".format(n_ff),\n",
    "    \"f_b\\nN={}\".format(n_fb),\n",
    "    \"b_b\\nN={}\".format(n_bb),\n",
    "    \"b_f\\nN={}\".format(n_bf)\n",
    "    # \"Neutral Harmonic\\nN={}\".format(n_nf),\n",
    "    # \"Neutral Disharmonic\\nN={}\".format(n_nb)\n",
    "]\n",
    "\n",
    "set_lang_ax(ax, data, xlabels, \n",
    "    # title='Turkish',\n",
    "    title=None,\n",
    "    boxcolor='lightgrey',\n",
    "    fontsize=fontsize,\n",
    "    ylabel=\"feature_surprisal\"\n",
    ")\n",
    "\n",
    "# significance front/back violation\n",
    "x1, x2 = 1, 2\n",
    "y, h, col = max(fb_surprisal) + 0.2, 0.2, 'k'\n",
    "plt.plot([x1, x1, x2, x2], [y, y+h, y+h, y], lw=3, c=col)\n",
    "plt.text((x1+x2)*.5, y+h, r\"$\\bf{**}$\", ha='center', va='bottom', color=col, fontsize=15)\n",
    "\n",
    "# significance rounded/unrounded violation\n",
    "x1, x2 = 3, 4\n",
    "y, h, col = max(bf_surprisal) + 0.2, 0.2, 'k'\n",
    "plt.plot([x1, x1, x2, x2], [y, y+h, y+h, y], lw=3, c=col)\n",
    "plt.text((x1+x2)*.5, y+h, r\"$\\bf{**}$\", ha='center', va='bottom', color=col, fontsize=15)\n",
    "\n",
    "plt.savefig(\"../img/surprisal_front2_harmony_tur.png\",\n",
    "            bbox_inches='tight',\n",
    "            pad_inches=0,\n",
    "            format='png',\n",
    "            dpi=300)"
   ]
  },
  {
   "cell_type": "code",
   "execution_count": 14,
   "metadata": {},
   "outputs": [
    {
     "name": "stdout",
     "output_type": "stream",
     "text": [
      "(2131.0, 6.492867037004428e-12, -0.5651464136312621)\n",
      "(319.0, 3.363252122419052e-112, -0.9945453301870661)\n"
     ]
    }
   ],
   "source": [
    "res = mann_whitney_test(rr_surprisal, ru_surprisal)\n",
    "print(res)\n",
    "res = mann_whitney_test(uu_surprisal, ur_surprisal)\n",
    "print(res)"
   ]
  },
  {
   "cell_type": "code",
   "execution_count": 15,
   "metadata": {},
   "outputs": [
    {
     "data": {
      "image/png": "[encoded data removed]",
      "text/plain": [
       "<Figure size 864x576 with 1 Axes>"
      ]
     },
     "metadata": {
      "needs_background": "light"
     },
     "output_type": "display_data"
    }
   ],
   "source": [
    "fig = plt.figure(figsize=(12, 8))\n",
    "gs = fig.add_gridspec(1, 1, hspace=0.15, wspace=0.25)\n",
    "ax = gs.subplots()\n",
    "\n",
    "ax.set_ylim([0,8.5])\n",
    "\n",
    "data = [\n",
    "    rr_surprisal,\n",
    "    ru_surprisal, \n",
    "    uu_surprisal,\n",
    "    ur_surprisal\n",
    "]\n",
    "xlabels = [\n",
    "    \"r_r\\nN={}\".format(n_rr),\n",
    "    \"r_u\\nN={}\".format(n_ru),\n",
    "    \"u_u\\nN={}\".format(n_uu),\n",
    "    \"u_r\\nN={}\".format(n_ur)\n",
    "]\n",
    "\n",
    "set_lang_ax(ax, data, xlabels, \n",
    "    # title='Turkish',\n",
    "    title=None,\n",
    "    boxcolor='lightgrey',\n",
    "    fontsize=fontsize,\n",
    "    ylabel=\"feature_surprisal\"\n",
    ")\n",
    "\n",
    "# significance rounded/unrounded violation\n",
    "x1, x2 = 1, 2\n",
    "y, h, col = max(rr_surprisal) + 0.2, 0.2, 'k'\n",
    "plt.plot([x1, x1, x2, x2], [y, y+h, y+h, y], lw=3, c=col)\n",
    "plt.text((x1+x2)*.5, y+h, r\"$\\bf{**}$\", ha='center', va='bottom', color=col, fontsize=15)\n",
    "\n",
    "# significance rounded/unrounded violation\n",
    "x1, x2 = 3, 4\n",
    "y, h, col = max(ur_surprisal) + 0.2, 0.2, 'k'\n",
    "plt.plot([x1, x1, x2, x2], [y, y+h, y+h, y], lw=3, c=col)\n",
    "plt.text((x1+x2)*.5, y+h, r\"$\\bf{**}$\", ha='center', va='bottom', color=col, fontsize=15)\n",
    "\n",
    "plt.savefig(\"../img/surprisal_rounded2_harmony_tur.png\",\n",
    "            bbox_inches='tight',\n",
    "            pad_inches=0,\n",
    "            format='png',\n",
    "            dpi=300)"
   ]
  }
 ],
 "metadata": {
  "interpreter": {
   "hash": "1e1370a0257593aa7a1e6890fbe67f267b399c96ad7c3d275027d446a8086286"
  },
  "kernelspec": {
   "display_name": "Python 3.8.10 64-bit ('mt': conda)",
   "name": "python3"
  },
  "language_info": {
   "codemirror_mode": {
    "name": "ipython",
    "version": 3
   },
   "file_extension": ".py",
   "mimetype": "text/x-python",
   "name": "python",
   "nbconvert_exporter": "python",
   "pygments_lexer": "ipython3",
   "version": "3.8.12"
  },
  "orig_nbformat": 4
 },
 "nbformat": 4,
 "nbformat_minor": 2
}
