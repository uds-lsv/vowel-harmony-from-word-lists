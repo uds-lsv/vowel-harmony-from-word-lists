{
 "cells": [
  {
   "cell_type": "code",
   "execution_count": 1,
   "source": [
    "from pathlib import Path\n",
    "from matplotlib import pyplot as plt\n",
    "import numpy as np\n",
    "from scipy.stats import shapiro\n",
    "\n",
    "from eff.analysis import mann_whitney_test, wilcoxon_signed_rank_test, get_significance_level\n",
    "from eff.analysis.plotting import set_lang_ax\n",
    "from eff.util.util import load_results"
   ],
   "outputs": [],
   "metadata": {}
  },
  {
   "cell_type": "code",
   "execution_count": 2,
   "source": [
    "base_path = Path(\"./out/nelex_unique\")\n",
    "dataset, res, criterion, model = load_results(base_path, 'fin')\n",
    "fontsize=18"
   ],
   "outputs": [],
   "metadata": {}
  },
  {
   "cell_type": "code",
   "execution_count": 3,
   "source": [
    "# harmonic groups\n",
    "front_vowels = ['æ', 'œ', 'ʏ', 'y']\n",
    "back_vowels = ['ɔ', 'u', 'ʊ', 'ɑ']\n",
    "neutral_vowels = ['i', 'ɛ']"
   ],
   "outputs": [],
   "metadata": {}
  },
  {
   "cell_type": "code",
   "execution_count": 4,
   "source": [
    "# model probe front harmony (feature surprisal)\n",
    "clts_ds = dataset['clts']\n",
    "bipa = clts_ds.bipa\n",
    "output_alphabet = clts_ds.output_alphabet\n",
    "logprobs = res['unmasked']['logprobs']\n",
    "targets = res['unmasked']['targets']\n",
    "target_indices = res['unmasked']['indices']\n",
    "\n",
    "front_indices = [output_alphabet.char2idx(v) for v in front_vowels]\n",
    "back_indices = [output_alphabet.char2idx(v) for v in back_vowels]\n",
    "neutral_indices = [output_alphabet.char2idx(v) for v in neutral_vowels]\n",
    "\n",
    "\n",
    "ff_surprisal = []\n",
    "fb_surprisal = []\n",
    "bb_surprisal = []\n",
    "bf_surprisal = []\n",
    "nf_surprisal = []\n",
    "nb_surprisal = []\n",
    "nn_surprisal = []\n",
    "\n",
    "\n",
    "fnf_surprisal = []\n",
    "fnb_surprisal = []\n",
    "bnb_surprisal = []\n",
    "bnf_surprisal = []\n",
    "nnf_surprisal = []\n",
    "nnb_surprisal = []\n",
    "nnn_surprisal = []\n",
    "\n",
    "\n",
    "for indices_word, targets_word, logprobs_word in zip(target_indices, targets, logprobs):\n",
    "    vowel_indices = [targets_word[idx] for idx in indices_word]\n",
    "    if len(vowel_indices) >= 2:\n",
    "        for i in range(len(vowel_indices)-1, 0, -1):\n",
    "            i1, i2 = vowel_indices[i-1], vowel_indices[i]\n",
    "            # need char to determine harmonic group\n",
    "            v1, v2 = output_alphabet.idx2char(i1), output_alphabet.idx2char(i2)\n",
    "            target_idx = indices_word[i]\n",
    "\n",
    "            if not clts_ds.bipa[v1].type == 'diphthong' \\\n",
    "            and not clts_ds.bipa[v2].type == 'diphthong':\n",
    "\n",
    "                # front\n",
    "                if v1 in front_vowels:\n",
    "                    target_logprobs = logprobs_word[target_idx]\n",
    "                    harmonic_surprisal = sum([2**(-l) for i, l in enumerate(target_logprobs) if i in front_indices])\n",
    "                    disharmonic_surprisal = sum([2**(-l) for i, l in enumerate(target_logprobs) if i in back_indices])\n",
    "                    harmonic_surprisal = -np.log2(harmonic_surprisal)\n",
    "                    disharmonic_surprisal = -np.log2(disharmonic_surprisal)\n",
    "                    ff_surprisal.append(harmonic_surprisal)\n",
    "                    fb_surprisal.append(disharmonic_surprisal)\n",
    "                # neutral\n",
    "                if v1 in neutral_vowels:\n",
    "                    target_logprobs = logprobs_word[target_idx]\n",
    "                    harmonic_surprisal = sum([2**(-l) for i, l in enumerate(target_logprobs) if i in front_indices])\n",
    "                    disharmonic_surprisal = sum([2**(-l) for i, l in enumerate(target_logprobs) if i in back_indices])\n",
    "                    neutral_surprisal = sum([2**(-l) for i, l in enumerate(target_logprobs) if i in neutral_indices])\n",
    "                    harmonic_surprisal = -np.log2(harmonic_surprisal)\n",
    "                    disharmonic_surprisal = -np.log2(disharmonic_surprisal)\n",
    "                    neutral_surprisal = -np.log2(neutral_surprisal)\n",
    "                    nf_surprisal.append(harmonic_surprisal)\n",
    "                    nb_surprisal.append(disharmonic_surprisal)\n",
    "                    nn_surprisal.append(neutral_surprisal)\n",
    "                # back\n",
    "                elif v2 in back_vowels:\n",
    "                    target_logprobs = logprobs_word[target_idx]\n",
    "                    harmonic_surprisal = sum([2**(-l) for i, l in enumerate(target_logprobs) if i in back_indices])\n",
    "                    disharmonic_surprisal = sum([2**(-l) for i, l in enumerate(target_logprobs) if i in front_indices])\n",
    "                    harmonic_surprisal = -np.log2(harmonic_surprisal)\n",
    "                    disharmonic_surprisal = -np.log2(disharmonic_surprisal)\n",
    "                    bb_surprisal.append(harmonic_surprisal)\n",
    "                    bf_surprisal.append(disharmonic_surprisal)\n",
    "\n",
    "    if len(vowel_indices) >= 3:\n",
    "        for i in range(len(vowel_indices)-1, 0, -1):\n",
    "            i1, i2, i3 = vowel_indices[i-2], vowel_indices[i-1], vowel_indices[i]\n",
    "            v1, v2, v3 = output_alphabet.idx2char(i1), output_alphabet.idx2char(i2), output_alphabet.idx2char(i3)\n",
    "            target_idx = indices_word[i]\n",
    "\n",
    "            if not clts_ds.bipa[v1].type == 'diphthong' \\\n",
    "            and not clts_ds.bipa[v2].type == 'diphthong' \\\n",
    "            and not clts_ds.bipa[v3].type == 'diphthong':\n",
    "            \n",
    "                if v1 in front_vowels and v2 in neutral_vowels:\n",
    "                    target_logprobs = logprobs_word[target_idx]\n",
    "                    harmonic_surprisal = sum([2**(-l) for i, l in enumerate(target_logprobs) if i in front_indices])\n",
    "                    disharmonic_surprisal = sum([2**(-l) for i, l in enumerate(target_logprobs) if i in back_indices])\n",
    "                    harmonic_surprisal = -np.log2(harmonic_surprisal)\n",
    "                    disharmonic_surprisal = -np.log2(disharmonic_surprisal)\n",
    "                    fnf_surprisal.append(harmonic_surprisal)\n",
    "                    fnb_surprisal.append(disharmonic_surprisal)\n",
    "\n",
    "                elif v1 in back_vowels and v2 in neutral_vowels:\n",
    "                    target_logprobs = logprobs_word[target_idx]\n",
    "                    harmonic_surprisal = sum([2**(-l) for i, l in enumerate(target_logprobs) if i in back_indices])\n",
    "                    disharmonic_surprisal = sum([2**(-l) for i, l in enumerate(target_logprobs) if i in front_indices])\n",
    "                    harmonic_surprisal = -np.log2(harmonic_surprisal)\n",
    "                    disharmonic_surprisal = -np.log2(disharmonic_surprisal)\n",
    "                    bnb_surprisal.append(harmonic_surprisal)\n",
    "                    bnf_surprisal.append(disharmonic_surprisal)\n",
    "\n",
    "                elif v1 in neutral_vowels and v2 in neutral_vowels:\n",
    "                    target_logprobs = logprobs_word[target_idx]\n",
    "                    harmonic_surprisal = sum([2**(-l) for i, l in enumerate(target_logprobs) if i in front_indices])\n",
    "                    disharmonic_surprisal = sum([2**(-l) for i, l in enumerate(target_logprobs) if i in back_indices])\n",
    "                    neutral_surprisal = sum([2**(-l) for i, l in enumerate(target_logprobs) if i in neutral_indices])\n",
    "                    harmonic_surprisal = -np.log2(harmonic_surprisal)\n",
    "                    disharmonic_surprisal = -np.log2(disharmonic_surprisal)\n",
    "                    neutral_surprisal = -np.log2(neutral_surprisal)\n",
    "                    nnf_surprisal.append(harmonic_surprisal)\n",
    "                    nnb_surprisal.append(disharmonic_surprisal)\n",
    "                    nnn_surprisal.append(neutral_surprisal)\n",
    "\n",
    "                \n",
    "n_ff = len(ff_surprisal)\n",
    "n_fb = len(fb_surprisal)\n",
    "n_bb = len(bb_surprisal)\n",
    "n_bf = len(bf_surprisal)\n",
    "n_nf = len(nf_surprisal)\n",
    "n_nb = len(nb_surprisal)\n",
    "n_nn = len(nn_surprisal)\n",
    "\n",
    "n_fnf = len(fnf_surprisal)\n",
    "n_fnb = len(fnb_surprisal)\n",
    "n_bnb = len(bnb_surprisal)\n",
    "n_bnf = len(bnf_surprisal)\n",
    "n_nnf = len(nnf_surprisal)\n",
    "n_nnb = len(nnb_surprisal)\n",
    "n_nnn = len(nnn_surprisal)\n",
    "\n",
    "harmonic_surprisal = ff_surprisal + bb_surprisal\n",
    "disharmonic_surprisal = fb_surprisal + bf_surprisal\n",
    "\n",
    "delta_mean_f = np.mean(ff_surprisal) - np.mean(fb_surprisal)\n",
    "delta_mean_b = np.mean(bb_surprisal) - np.mean(bf_surprisal)\n",
    "delta_mean_n = np.mean(nf_surprisal) - np.mean(nb_surprisal)\n",
    "delta_mean_disharmonic2 = np.mean(fb_surprisal) - np.mean(bf_surprisal)\n",
    "print(delta_mean_f)\n",
    "print(delta_mean_b)\n",
    "print(delta_mean_disharmonic2)\n",
    "\n",
    "delta_mean_fn = np.mean(fnf_surprisal) - np.mean(fnb_surprisal)\n",
    "print(delta_mean_fn)\n",
    "delta_mean_bn = np.mean(bnb_surprisal) - np.mean(bnf_surprisal)\n",
    "print(delta_mean_bn)\n",
    "delta_mean_nn = np.mean(nnf_surprisal) - np.mean(nnb_surprisal)\n",
    "print(delta_mean_nn)\n",
    "delta_mean_disharmonic3 = np.mean(fnb_surprisal) - np.mean(bnf_surprisal)"
   ],
   "outputs": [
    {
     "output_type": "stream",
     "name": "stdout",
     "text": [
      "-0.8296672697307539\n",
      "-0.8470234697891748\n",
      "-0.21480563023076726\n",
      "-0.56295825154119\n",
      "-0.607631300030657\n",
      "-0.12056547930681427\n"
     ]
    }
   ],
   "metadata": {}
  },
  {
   "cell_type": "code",
   "execution_count": 5,
   "source": [
    "print(shapiro(harmonic_surprisal))\n",
    "print(shapiro(disharmonic_surprisal))\n",
    "\n",
    "print(shapiro(ff_surprisal))\n",
    "print(shapiro(fb_surprisal))\n",
    "print(shapiro(bb_surprisal))\n",
    "print(shapiro(bf_surprisal))"
   ],
   "outputs": [
    {
     "output_type": "stream",
     "name": "stdout",
     "text": [
      "ShapiroResult(statistic=0.9647646546363831, pvalue=9.194591257255524e-05)\n",
      "ShapiroResult(statistic=0.9785951375961304, pvalue=0.004723662976175547)\n",
      "ShapiroResult(statistic=0.9098512530326843, pvalue=6.957345613045618e-05)\n",
      "ShapiroResult(statistic=0.8982429504394531, pvalue=2.3134574803407304e-05)\n",
      "ShapiroResult(statistic=0.9503840804100037, pvalue=0.00023057154612615705)\n",
      "ShapiroResult(statistic=0.9873766303062439, pvalue=0.33149635791778564)\n"
     ]
    }
   ],
   "metadata": {}
  },
  {
   "cell_type": "code",
   "execution_count": 6,
   "source": [
    "# harmonic vs. disharmonic \n",
    "res = mann_whitney_test(harmonic_surprisal, disharmonic_surprisal)\n",
    "print(res)\n",
    "\n",
    "res = mann_whitney_test(fnf_surprisal+bnb_surprisal, fnb_surprisal+bnf_surprisal)\n",
    "print(res)\n",
    "\n",
    "print(np.mean(nf_surprisal+nb_surprisal) - np.mean(nn_surprisal))\n",
    "res = mann_whitney_test(nf_surprisal+nb_surprisal, nn_surprisal)\n",
    "print(res)\n",
    "\n",
    "print(np.mean(nnf_surprisal+nnb_surprisal) - np.mean(nnn_surprisal))\n",
    "res = mann_whitney_test(nnf_surprisal+nnb_surprisal, nnn_surprisal)\n",
    "print(res)"
   ],
   "outputs": [
    {
     "output_type": "stream",
     "name": "stdout",
     "text": [
      "(2026.0, 8.33127546242231e-52, -0.8912185562028512)\n",
      "(1235.0, 5.561774533497469e-11, -0.6042300913315173)\n",
      "-0.6993682220295385\n",
      "(5115.0, 1.2747714126082565e-39, -0.7664810080350621)\n",
      "-0.7508951784902202\n",
      "(110.0, 9.977044685069437e-08, -0.7920604914933838)\n"
     ]
    }
   ],
   "metadata": {}
  },
  {
   "cell_type": "code",
   "execution_count": 7,
   "source": [
    "import statsmodels.api as sm\n",
    "sm.qqplot(np.array(ff_surprisal), line='45')\n",
    "plt.savefig(\"../img/qqplot_ff_fin.png\", bbox_inches='tight', dpi=300, pad_inches=0)\n",
    "sm.qqplot(np.array(fb_surprisal), line='45')\n",
    "plt.savefig(\"../img/qqplot_fb_fin.png\", bbox_inches='tight', dpi=300, pad_inches=0)\n",
    "plt.show()\n",
    "\n",
    "# plt.hist(ff_surprisal)\n",
    "# plt.title(\"No Violation, Finnish\")\n",
    "# plt.show()\n",
    "# plt.hist(fb_surprisal)\n",
    "# plt.title(\"Back Harmony Violation, Finnish\")\n"
   ],
   "outputs": [
    {
     "output_type": "display_data",
     "data": {
      "text/plain": [
       "<Figure size 432x288 with 1 Axes>"
      ],
      "image/png": "[encoded data removed]"
     },
     "metadata": {
      "needs_background": "light"
     }
    },
    {
     "output_type": "display_data",
     "data": {
      "text/plain": [
       "<Figure size 432x288 with 1 Axes>"
      ],
      "image/png": "[encoded data removed]"
     },
     "metadata": {
      "needs_background": "light"
     }
    }
   ],
   "metadata": {}
  },
  {
   "cell_type": "code",
   "execution_count": 8,
   "source": [
    "# 2 vowels\n",
    "U, p_value_f, r = wilcoxon_signed_rank_test(ff_surprisal, fb_surprisal)\n",
    "print(\"f\\_f/f\\_b & {} &  {} & {} & {} & Wilcoxon \\\\\\\\\"\n",
    "    .format(round(delta_mean_f, 4), U, p_value_f, round(r, 4)))\n",
    "U, p_value_b, r = wilcoxon_signed_rank_test(bb_surprisal, bf_surprisal)\n",
    "print(\"b\\_b/b\\_f & {} & {} & {} & {} & Wilcoxon \\\\\\\\\"\n",
    "    .format(round(delta_mean_b, 4), U, p_value_b, round(r, 4)))\n",
    "U, p_value_n, r = wilcoxon_signed_rank_test(nf_surprisal, nb_surprisal)\n",
    "print(\"n\\_f/n\\_b & {} & {} & {} & {} & Wilcoxon \\\\\\\\\"\n",
    "    .format(round(delta_mean_n, 4), U, p_value_n, round(r, 4)))\n",
    "U, p_value, r = mann_whitney_test(fb_surprisal, bf_surprisal)\n",
    "print(\"f\\_b/b\\_f & {} & {} & {} & {} & Mann-Whitney \\\\\\\\\"\n",
    "    .format(round(delta_mean_disharmonic2, 4), U, p_value, round(r, 4)))"
   ],
   "outputs": [
    {
     "output_type": "stream",
     "name": "stdout",
     "text": [
      "f\\_f/f\\_b & -0.8297 &  71.0 & 2.004800767416989e-12 & 0.0263 & Wilcoxon \\\\\n",
      "b\\_b/b\\_f & -0.847 & 415.0 & 3.775650832603937e-17 & 0.0572 & Wilcoxon \\\\\n",
      "n\\_f/n\\_b & 0.0009 & 4800.0 & 0.17229189346563623 & 0.4353 & Wilcoxon \\\\\n",
      "f\\_b/b\\_f & -0.2148 & 3148.0 & 0.0010662125240302165 & -0.2813 & Mann-Whitney \\\\\n"
     ]
    }
   ],
   "metadata": {}
  },
  {
   "cell_type": "code",
   "execution_count": 9,
   "source": [
    "fig = plt.figure(figsize=(20, 8))\n",
    "gs = fig.add_gridspec(1, 1, hspace=0.15, wspace=0.25)\n",
    "ax = gs.subplots()\n",
    "\n",
    "ax.set_ylim([0,5.5])\n",
    "\n",
    "data = [\n",
    "    ff_surprisal, \n",
    "    fb_surprisal, \n",
    "    bb_surprisal, \n",
    "    bf_surprisal,\n",
    "    nf_surprisal, \n",
    "    nb_surprisal,\n",
    "    nn_surprisal\n",
    "]\n",
    "\n",
    "xlabels = [\n",
    "    \"f_f\\nN={}\".format(n_ff),\n",
    "    \"f_b\\nN={}\".format(n_fb),\n",
    "    \"b_b\\nN={}\".format(n_bb),\n",
    "    \"b_f\\nN={}\".format(n_bf),\n",
    "    \"n_f\\nN={}\".format(n_nf),\n",
    "    \"n_b\\nN={}\".format(n_nb),\n",
    "    \"n_n\\nN={}\".format(n_nn)\n",
    "]\n",
    "\n",
    "set_lang_ax(ax, data, xlabels, \n",
    "    # title='Finnish',\n",
    "    title=None,\n",
    "    ylabel=r\"feature_surprisal\",\n",
    "    boxcolor='lightgrey',\n",
    "    fontsize=18\n",
    ")\n",
    "\n",
    "# significance front harmony violation\n",
    "level = get_significance_level(p_value_f)\n",
    "x1, x2 = 1, 2\n",
    "y, h, col = max(fb_surprisal + ff_surprisal) + 0.2, 0.2, 'k'\n",
    "plt.plot([x1, x1, x2, x2], [y, y+h, y+h, y], lw=3, c=col)\n",
    "plt.text((x1+x2)*.5, y+h, level, ha='center', va='bottom', color=col, fontsize=18)\n",
    "\n",
    "# significance back harmony violation\n",
    "level = get_significance_level(p_value_b)\n",
    "x1, x2 = 3, 4\n",
    "y, h, col = max(bb_surprisal + bf_surprisal) + 0.2, 0.2, 'k'\n",
    "plt.plot([x1, x1, x2, x2], [y, y+h, y+h, y], lw=3, c=col)\n",
    "plt.text((x1+x2)*.5, y+h, level, ha='center', va='bottom', color=col, fontsize=18)\n",
    "\n",
    "# significance neutral harmonic/disharmonic violation\n",
    "level = get_significance_level(p_value_n)\n",
    "x1, x2 = 5, 6\n",
    "y, h, col = max(nf_surprisal) + 0.2, 0.2, 'k'\n",
    "plt.plot([x1, x1, x2, x2], [y, y+h, y+h, y], lw=3, c=col)\n",
    "plt.text((x1+x2)*.5, y+h, level, ha='center', va='bottom', color=col, fontsize=15)\n",
    "\n",
    "# plt.savefig(\"../img/surprisal_front_neutral_harmony_fin.png\",\n",
    "plt.savefig(\"../img/surprisal_front2_harmony_fin.png\",\n",
    "        bbox_inches='tight',\n",
    "        pad_inches=0,\n",
    "        format='png',\n",
    "        dpi=300)"
   ],
   "outputs": [
    {
     "output_type": "display_data",
     "data": {
      "text/plain": [
       "<Figure size 1440x576 with 1 Axes>"
      ],
      "image/png": "[encoded data removed]"
     },
     "metadata": {
      "needs_background": "light"
     }
    }
   ],
   "metadata": {}
  },
  {
   "cell_type": "code",
   "execution_count": 10,
   "source": [
    "# 3 vowels\n",
    "U, p_value_fn, r = wilcoxon_signed_rank_test(fnf_surprisal, fnb_surprisal)\n",
    "print(\"f\\_n\\_f/f\\_n\\_b & {} &  {} & {} & {} & Wilcoxon \\\\\\\\\"\n",
    "    .format(round(delta_mean_fn, 4), U, p_value_fn, round(r, 4)))\n",
    "U, p_value_bn, r = wilcoxon_signed_rank_test(bnb_surprisal, bnf_surprisal)\n",
    "print(\"b\\_n\\_b/b\\_n\\_f & {} & {} & {} & {} & Wilcoxon \\\\\\\\\"\n",
    "    .format(round(delta_mean_bn, 4), U, p_value_bn, round(r, 4)))\n",
    "U, p_value_nn, r = wilcoxon_signed_rank_test(nnf_surprisal, nnb_surprisal)\n",
    "print(\"n\\_n\\_f/n\\_n\\_b & {} & {} & {} & {} & Wilcoxon \\\\\\\\\"\n",
    "    .format(round(delta_mean_nn, 4), U, p_value_nn, round(r, 4)))\n",
    "U, p_value, r = mann_whitney_test(fnb_surprisal, bnf_surprisal)\n",
    "print(\"f\\_n\\_b/b\\_n\\_f & {} & {} & {} & {} & Mann-Whitney \\\\\\\\\"\n",
    "    .format(round(delta_mean_disharmonic3, 4), U, p_value, round(r, 4)))"
   ],
   "outputs": [
    {
     "output_type": "stream",
     "name": "stdout",
     "text": [
      "f\\_n\\_f/f\\_n\\_b & -0.563 &  59.0 & 7.566726769933875e-05 & 0.1052 & Wilcoxon \\\\\n",
      "b\\_n\\_b/b\\_n\\_f & -0.6076 & 236.0 & 0.0008785687244522046 & 0.2183 & Wilcoxon \\\\\n",
      "n\\_n\\_f/n\\_n\\_b & -0.1206 & 85.0 & 0.11142587661743164 & 0.308 & Wilcoxon \\\\\n",
      "f\\_n\\_b/b\\_n\\_f & -0.1188 & 688.0 & 0.48342303627587924 & -0.0935 & Mann-Whitney \\\\\n"
     ]
    }
   ],
   "metadata": {}
  },
  {
   "cell_type": "code",
   "execution_count": 11,
   "source": [
    "fig = plt.figure(figsize=(20, 8))\n",
    "gs = fig.add_gridspec(1, 1, hspace=0.15, wspace=0.25)\n",
    "ax = gs.subplots()\n",
    "\n",
    "ax.set_ylim([0,5.5])\n",
    "\n",
    "data = [\n",
    "    fnf_surprisal, \n",
    "    fnb_surprisal, \n",
    "    bnb_surprisal, \n",
    "    bnf_surprisal,\n",
    "    nnf_surprisal, \n",
    "    nnb_surprisal,\n",
    "    nnn_surprisal\n",
    "]\n",
    "\n",
    "xlabels = [\n",
    "    \"f_n_f\\nN={}\".format(n_fnf),\n",
    "    \"f_n_b\\nN={}\".format(n_fnb),\n",
    "    \"b_n_b\\nN={}\".format(n_bnb),\n",
    "    \"b_n_f\\nN={}\".format(n_bnf),\n",
    "    \"n_n_f\\nN={}\".format(n_nnf),\n",
    "    \"n_n_b\\nN={}\".format(n_nnb),\n",
    "    \"n_n_n\\nN={}\".format(n_nnn)\n",
    "]\n",
    "\n",
    "set_lang_ax(ax, data, xlabels, \n",
    "    # title='Finnish',\n",
    "    title=None,\n",
    "    ylabel=r\"feature_surprisal\",\n",
    "    boxcolor='lightgrey',\n",
    "    fontsize=18\n",
    ")\n",
    "\n",
    "# significance front harmony violation\n",
    "level = get_significance_level(p_value_fn)\n",
    "x1, x2 = 1, 2\n",
    "y, h, col = max(fnb_surprisal + fnf_surprisal) + 0.2, 0.2, 'k'\n",
    "plt.plot([x1, x1, x2, x2], [y, y+h, y+h, y], lw=3, c=col)\n",
    "plt.text((x1+x2)*.5, y+h, level, ha='center', va='bottom', color=col, fontsize=18)\n",
    "\n",
    "# significance back harmony violation\n",
    "level = get_significance_level(p_value_bn)\n",
    "x1, x2 = 3, 4\n",
    "y, h, col = max(bnb_surprisal + bnf_surprisal) + 0.2, 0.2, 'k'\n",
    "plt.plot([x1, x1, x2, x2], [y, y+h, y+h, y], lw=3, c=col)\n",
    "plt.text((x1+x2)*.5, y+h, level, ha='center', va='bottom', color=col, fontsize=18)\n",
    "\n",
    "# significance neutral harmonic/disharmonic violation\n",
    "level = get_significance_level(p_value_nn)\n",
    "x1, x2 = 5, 6\n",
    "y, h, col = max(nnf_surprisal + nnb_surprisal) + 0.2, 0.2, 'k'\n",
    "plt.plot([x1, x1, x2, x2], [y, y+h, y+h, y], lw=3, c=col)\n",
    "plt.text((x1+x2)*.5, y+h, level, ha='center', va='bottom', color=col, fontsize=15)\n",
    "\n",
    "# plt.savefig(\"../img/surprisal_front_neutral_harmony_fin.png\",\n",
    "plt.savefig(\"../img/surprisal_front3_harmony_fin.png\",\n",
    "        bbox_inches='tight',\n",
    "        pad_inches=0,\n",
    "        format='png',\n",
    "        dpi=300)"
   ],
   "outputs": [],
   "metadata": {}
  },
  {
   "cell_type": "code",
   "execution_count": null,
   "source": [
    "# all-neutral vs non-neutral\n",
    "\n",
    "U, p_value, r = wilcoxon_signed_rank_test(nnf_surprisal, nnn_surprisal)\n",
    "print(np.mean(nnn_surprisal) - np.mean(nnf_surprisal))\n",
    "print(U, p_value, r)\n",
    "\n",
    "U, p_value, r = wilcoxon_signed_rank_test(nnb_surprisal, nnn_surprisal)\n",
    "print(np.mean(np.mean(nnn_surprisal) - nnb_surprisal))\n",
    "print(U, p_value, r)"
   ],
   "outputs": [
    {
     "output_type": "stream",
     "name": "stdout",
     "text": [
      "0.8112270668651278\n",
      "8.0 5.9604644775390625e-06 0.028985507246376812\n",
      "0.6905798274743368\n",
      "0.0 2.384185791015625e-07 0.0\n"
     ]
    }
   ],
   "metadata": {}
  }
 ],
 "metadata": {
  "interpreter": {
   "hash": "1e1370a0257593aa7a1e6890fbe67f267b399c96ad7c3d275027d446a8086286"
  },
  "kernelspec": {
   "name": "python3",
   "display_name": "Python 3.8.10 64-bit ('mt': conda)"
  },
  "language_info": {
   "codemirror_mode": {
    "name": "ipython",
    "version": 3
   },
   "file_extension": ".py",
   "mimetype": "text/x-python",
   "name": "python",
   "nbconvert_exporter": "python",
   "pygments_lexer": "ipython3",
   "version": "3.8.10"
  },
  "orig_nbformat": 4
 },
 "nbformat": 4,
 "nbformat_minor": 2
}