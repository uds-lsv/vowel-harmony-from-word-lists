{
 "cells": [
  {
   "cell_type": "code",
   "execution_count": 8,
   "source": [
    "import itertools\n",
    "import numpy as np\n",
    "from pathlib import Path\n",
    "import torch\n",
    "from torch.nn import CrossEntropyLoss\n",
    "from torch.optim import Adam \n",
    "from torch.utils.data import DataLoader\n",
    "\n",
    "from eff.data.dataset import CLTSDataset\n",
    "from eff.train import get_class_weights_balanced, get_train_test_valid_split\n",
    "from eff.train.dataset import TrainDataset, UnmaskedTestSet, \\\n",
    "    ConsonantMaskingTestSet, VowelMaskingTestSet\n",
    "from eff.train.scripts import train, test\n",
    "from eff.util import constants\n",
    "from eff.util.util import save_results\n",
    "\n",
    "torch.manual_seed(0)\n",
    "torch.cuda.manual_seed(0)\n",
    "np.random.seed(0)\n",
    "\n",
    "base_path = Path(\"./out/art\")"
   ],
   "outputs": [],
   "metadata": {}
  },
  {
   "cell_type": "code",
   "execution_count": 9,
   "source": [
    "consonants = [\"p\", \"t\", \"k\", \"b\", \"d\", \"g\", \"f\", \"s\", \"x\", \"v\", \"z\", \"r\"]\n",
    "front_vowels = [\"æ\", \"e\", \"i\"]\n",
    "back_vowels = [\"a\", \"o\", \"u\"]\n",
    "\n",
    "s_front = [[c+v for c in consonants] for v in front_vowels]\n",
    "s_back = [[c+v for c in consonants] for v in back_vowels]\n",
    "\n",
    "s_front = list(itertools.chain.from_iterable(s_front))\n",
    "s_back = list(itertools.chain.from_iterable(s_back))\n",
    "\n",
    "w_front = [[[s1+s2+s3 for s1 in s_front] for s2 in s_front] for s3 in s_front]\n",
    "w_front = list(itertools.chain.from_iterable(itertools.chain.from_iterable(w_front)))\n",
    "w_front = np.random.choice(w_front, size=2000)\n",
    "print(len(w_front))\n",
    "w_back = [[[s1+s2+s3 for s1 in s_back] for s2 in s_back] for s3 in s_back]\n",
    "w_back = list(itertools.chain.from_iterable(itertools.chain.from_iterable(w_back)))\n",
    "w_back = np.random.choice(w_back, size=2000)\n",
    "print(len(w_back))\n",
    "w_all = np.concatenate([w_front, w_back])\n",
    "print(len(w_all))\n",
    "\n",
    "print(w_front[:10], w_back[:10])"
   ],
   "outputs": [
    {
     "output_type": "stream",
     "name": "stdout",
     "text": [
      "2000\n",
      "2000\n",
      "4000\n",
      "['xibækæ' 'sæzevi' 'tisixi' 'bikeri' 'bækede' 'sedere' 'bibipi' 'gekexi'\n",
      " 'vepæde' 'siferæ'] ['foruro' 'tatoga' 'bokara' 'datoku' 'bafasu' 'pasoxo' 'zutasu' 'tofosa'\n",
      " 'gafosu' 'foruga']\n"
     ]
    }
   ],
   "metadata": {}
  },
  {
   "cell_type": "code",
   "execution_count": 10,
   "source": [
    "batch_size = 32\n",
    "n_layers = 2\n",
    "embedding_size = 64\n",
    "hidden_size = 256\n",
    "dropout = 0.33\n",
    "patience = 3"
   ],
   "outputs": [],
   "metadata": {}
  },
  {
   "cell_type": "code",
   "execution_count": 11,
   "source": [
    "langs = dict(art1=w_all)"
   ],
   "outputs": [],
   "metadata": {}
  },
  {
   "cell_type": "code",
   "execution_count": 12,
   "source": [
    "# %%capture log\n",
    "\n",
    "from collections import defaultdict\n",
    "import itertools\n",
    "\n",
    "from eff.model import lstm\n",
    "from eff.train import generate_batch\n",
    "\n",
    "datasets = defaultdict(lambda: defaultdict(lambda: {}))\n",
    "res = defaultdict(lambda: defaultdict(lambda: {}))\n",
    "models = {}\n",
    "criteria = {}\n",
    "\n",
    "for lang_id, forms in langs.items():\n",
    "    clts_dataset = CLTSDataset(forms)\n",
    "    datasets['clts'] = clts_dataset\n",
    "    print(clts_dataset.words[0])\n",
    "    train_words, valid_words, test_words = get_train_test_valid_split(clts_dataset.words, \\\n",
    "        test_size=0.3, valid_size=0.1)\n",
    "\n",
    "    train_set = TrainDataset(\n",
    "                    words=train_words,\n",
    "                    input_alphabet=clts_dataset.input_alphabet,\n",
    "                    output_alphabet=clts_dataset.output_alphabet,\n",
    "                    bipa=clts_dataset.bipa,\n",
    "                    masking=0.01\n",
    "                )\n",
    "    valid_set = TrainDataset( \n",
    "                    words=valid_words,\n",
    "                    input_alphabet=clts_dataset.input_alphabet,\n",
    "                    output_alphabet=clts_dataset.output_alphabet,\n",
    "                    bipa=clts_dataset.bipa, \n",
    "                    masking=0.01\n",
    "                )\n",
    "    test_set = UnmaskedTestSet(\n",
    "                    words=test_words,\n",
    "                    input_alphabet=clts_dataset.input_alphabet,\n",
    "                    output_alphabet=clts_dataset.output_alphabet,\n",
    "                    bipa=clts_dataset.bipa\n",
    "                )\n",
    "    \n",
    "    test_set_vowel = VowelMaskingTestSet(\n",
    "                        words=test_words,\n",
    "                        input_alphabet=clts_dataset.input_alphabet,\n",
    "                        output_alphabet=clts_dataset.output_alphabet,\n",
    "                        bipa=clts_dataset.bipa\n",
    "                    )\n",
    "\n",
    "    test_set_consonant = ConsonantMaskingTestSet(\n",
    "                            words=test_words,\n",
    "                            input_alphabet=clts_dataset.input_alphabet,\n",
    "                            output_alphabet=clts_dataset.output_alphabet,\n",
    "                            bipa=clts_dataset.bipa\n",
    "                        )\n",
    "\n",
    "    datasets['torch']['unmasked'] = test_set\n",
    "    datasets['torch']['vowel_masking'] = test_set_vowel\n",
    "    datasets['torch']['consonant_masking'] = test_set_consonant\n",
    "\n",
    "    train_loader = DataLoader(train_set, batch_size=batch_size, collate_fn=generate_batch)\n",
    "    valid_loader = DataLoader(valid_set, batch_size=batch_size, collate_fn=generate_batch)\n",
    "    test_loader = DataLoader(test_set, batch_size=batch_size, collate_fn=generate_batch)\n",
    "    test_loader_vowel = DataLoader(test_set_vowel, batch_size=batch_size, collate_fn=generate_batch)\n",
    "    test_loader_consonant = DataLoader(test_set_consonant, batch_size=batch_size, collate_fn=generate_batch)\n",
    "    \n",
    "    train_labels = list(itertools.chain.from_iterable([t.cpu().tolist() for t in train_set._Y]))  \n",
    "    \n",
    "    missing_labels = list(set(clts_dataset.output_alphabet.indices).difference(set(train_labels)))\n",
    "    train_labels = train_labels + [clts_dataset.output_alphabet.PAD_IDX] + missing_labels\n",
    "    weight = get_class_weights_balanced(ignore_classes=[clts_dataset.pad_idx, clts_dataset.mask_idx], \\\n",
    "        classes=clts_dataset.output_alphabet.indices, y=train_labels)\n",
    "\n",
    "    criterion = CrossEntropyLoss(weight=weight)\n",
    "    criteria = criterion\n",
    "    model = lstm.LstmLM(\n",
    "        input_dim=len(clts_dataset.input_alphabet),\n",
    "        output_dim=len(clts_dataset.output_alphabet),\n",
    "        embedding_dim=64,\n",
    "        hidden_dim=256,\n",
    "        dropout=0.33,\n",
    "        n_layers=2,\n",
    "        loss_fn=criterion\n",
    "    )\n",
    "    # print(model)\n",
    "    model.to(constants.device)\n",
    "    optimizer = Adam(model.parameters())\n",
    "    \n",
    "    train(model, train_loader, valid_loader, optimizer, criterion, patience=patience)\n",
    "    \n",
    "    logprobs, target_indices, targets = test(model, test_loader, criterion)\n",
    "    res['unmasked']['logprobs'] = logprobs\n",
    "    res['unmasked']['targets'] = targets\n",
    "    res['unmasked']['indices'] = target_indices\n",
    "    \n",
    "    logprobs, target_indices, targets = test(model, test_loader_vowel, criterion)\n",
    "    res['vowel_masking']['logprobs'] = logprobs\n",
    "    res['vowel_masking']['targets'] = targets\n",
    "    res['vowel_masking']['indices'] = target_indices\n",
    "\n",
    "    logprobs, target_indices, targets = test(model, test_loader_consonant, criterion)\n",
    "    res['consonant_masking']['logprobs'] = logprobs\n",
    "    res['consonant_masking']['targets'] = targets\n",
    "    res['consonant_masking']['indices'] = target_indices\n"
   ],
   "outputs": [
    {
     "output_type": "stream",
     "name": "stdout",
     "text": [
      "['x', 'i', 'b', 'æ', 'k', 'æ']\n",
      "Epoch\tLoss\tPerplexity\n",
      "1\t0.0378\t0\t\n",
      "2\t0.0372\t0\t\n",
      "3\t0.0371\t0\t\n",
      "4\t0.0371\t0\t\n",
      "Best epoch: 3, best valid loss: 0.04\n",
      "Test loss: 0.03665370265642802\n",
      "Test perplexity: 0\n",
      "Test loss: 0.04783113807439804\n",
      "Test perplexity: 0\n",
      "Test loss: 0.036646208961804705\n",
      "Test perplexity: 0\n"
     ]
    }
   ],
   "metadata": {}
  },
  {
   "cell_type": "code",
   "execution_count": 13,
   "source": [
    "save_results(base_path, \"art\", datasets, res, criteria, models)"
   ],
   "outputs": [],
   "metadata": {}
  },
  {
   "cell_type": "code",
   "execution_count": 16,
   "source": [
    "import matplotlib.pyplot as plt\n",
    "from eff.analysis import surprisal\n",
    "from eff.analysis.plotting import set_lang_ax\n",
    "\n",
    "ignore_vowel_index=0\n",
    "\n",
    "fig = plt.figure(figsize=(12, 8))\n",
    "gs = fig.add_gridspec(1, 1, hspace=0.15, wspace=0.25)\n",
    "ax = gs.subplots()\n",
    "\n",
    "ax.set_ylim([0, 9.5])\n",
    "\n",
    "surprisal_vowel = surprisal(\n",
    "                        res['vowel_masking']['logprobs'],\n",
    "                        res['vowel_masking']['targets'],\n",
    "                        res['vowel_masking']['indices'],\n",
    "                        ignore_vowel_index=999  \n",
    "                        )\n",
    "surprisal_consonant = surprisal(\n",
    "                        res['consonant_masking']['logprobs'],\n",
    "                        res['consonant_masking']['targets'],\n",
    "                        res['consonant_masking']['indices'],\n",
    "                        ignore_vowel_index=ignore_vowel_index\n",
    "                        )\n",
    "surprisal_none = surprisal(\n",
    "                    res['unmasked']['logprobs'],\n",
    "                    res['unmasked']['targets'],\n",
    "                    res['unmasked']['indices'],\n",
    "                    ignore_vowel_index=ignore_vowel_index\n",
    "                    )\n",
    "\n",
    "\n",
    "data = [surprisal_vowel, surprisal_consonant, surprisal_none]\n",
    "xlabels = [\"Consonant-only\", \"Vowel-only\", \"Control\"]\n",
    "\n",
    "set_lang_ax(ax, data, xlabels,\n",
    "    # title=\"Artificial Langauge\",\n",
    "    title=None,\n",
    "    boxcolor = \"lightgrey\",\n",
    "    fontsize=18,\n",
    "    ylabel=\"surprisal\"\n",
    ")\n",
    "\n",
    "plt.savefig(\"../img/surprisal_art.png\",\n",
    "            bbox_inches='tight',\n",
    "            pad_inches=0,\n",
    "            format='png',\n",
    "            dpi=300)\n",
    "\n",
    "plt.show()"
   ],
   "outputs": [
    {
     "output_type": "stream",
     "name": "stdout",
     "text": [
      "2400\n",
      "2400\n"
     ]
    },
    {
     "output_type": "display_data",
     "data": {
      "text/plain": [
       "<Figure size 864x576 with 1 Axes>"
      ],
      "image/png": "[encoded data removed]"
     },
     "metadata": {
      "needs_background": "light"
     }
    }
   ],
   "metadata": {}
  }
 ],
 "metadata": {
  "interpreter": {
   "hash": "1e1370a0257593aa7a1e6890fbe67f267b399c96ad7c3d275027d446a8086286"
  },
  "kernelspec": {
   "name": "python3",
   "display_name": "Python 3.8.10 64-bit"
  },
  "language_info": {
   "codemirror_mode": {
    "name": "ipython",
    "version": 3
   },
   "file_extension": ".py",
   "mimetype": "text/x-python",
   "name": "python",
   "nbconvert_exporter": "python",
   "pygments_lexer": "ipython3",
   "version": "3.8.10"
  },
  "orig_nbformat": 4
 },
 "nbformat": 4,
 "nbformat_minor": 2
}