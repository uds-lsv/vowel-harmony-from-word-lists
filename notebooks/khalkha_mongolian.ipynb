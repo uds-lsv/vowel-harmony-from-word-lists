{
 "cells": [
  {
   "cell_type": "code",
   "execution_count": 50,
   "source": [
    "from pathlib import Path\n",
    "from matplotlib import pyplot as plt\n",
    "import numpy as np\n",
    "from scipy.stats import shapiro\n",
    "\n",
    "from eff.analysis import mann_whitney_test, wilcoxon_signed_rank_test, get_significance_level\n",
    "from eff.analysis.plotting import set_lang_ax\n",
    "from eff.util.util import load_results"
   ],
   "outputs": [],
   "metadata": {}
  },
  {
   "cell_type": "code",
   "execution_count": 51,
   "source": [
    "base_path = Path(\"./out/nelex_unique\")\n",
    "dataset, res, criterion, model = load_results(base_path, 'khk')\n",
    "fontsize=18"
   ],
   "outputs": [],
   "metadata": {}
  },
  {
   "cell_type": "code",
   "execution_count": 52,
   "source": [
    "# harmonic groups\n",
    "front_vowels = ['e', 'u', 'o'] # +ATR\n",
    "back_vowels = ['a', 'ʊ', 'ɔ'] # -ATR\n",
    "neutral_vowels = ['i']"
   ],
   "outputs": [],
   "metadata": {}
  },
  {
   "cell_type": "code",
   "execution_count": 53,
   "source": [
    "# model probe front harmony (feature surprisal)\n",
    "clts_ds = dataset['clts']\n",
    "bipa = clts_ds.bipa\n",
    "output_alphabet = clts_ds.output_alphabet\n",
    "logprobs = res['unmasked']['logprobs']\n",
    "targets = res['unmasked']['targets']\n",
    "target_indices = res['unmasked']['indices']\n",
    "\n",
    "front_indices = [output_alphabet.char2idx(v) for v in front_vowels]\n",
    "back_indices = [output_alphabet.char2idx(v) for v in back_vowels]\n",
    "neutral_indices = [output_alphabet.char2idx(v) for v in neutral_vowels]\n",
    "\n",
    "\n",
    "ff_surprisal = []\n",
    "fb_surprisal = []\n",
    "bb_surprisal = []\n",
    "bf_surprisal = []\n",
    "nf_surprisal = []\n",
    "nb_surprisal = []\n",
    "nn_surprisal = []\n",
    "\n",
    "\n",
    "fnf_surprisal = []\n",
    "fnb_surprisal = []\n",
    "bnb_surprisal = []\n",
    "bnf_surprisal = []\n",
    "nnf_surprisal = []\n",
    "nnb_surprisal = []\n",
    "nnn_surprisal = []\n",
    "\n",
    "\n",
    "for indices_word, targets_word, logprobs_word in zip(target_indices, targets, logprobs):\n",
    "    vowel_indices = [targets_word[idx] for idx in indices_word]\n",
    "    if len(vowel_indices) >= 2:\n",
    "        for i in range(len(vowel_indices)-1, 0, -1):\n",
    "            i1, i2 = vowel_indices[i-1], vowel_indices[i]\n",
    "            # need char to determine harmonic group\n",
    "            v1, v2 = output_alphabet.idx2char(i1), output_alphabet.idx2char(i2)\n",
    "            target_idx = indices_word[i]\n",
    "\n",
    "            if not clts_ds.bipa[v1].type == 'diphthong' \\\n",
    "            and not clts_ds.bipa[v2].type == 'diphthong':\n",
    "\n",
    "                # front\n",
    "                if v1 in front_vowels:\n",
    "                    target_logprobs = logprobs_word[target_idx]\n",
    "                    harmonic_surprisal = sum([2**(-l) for i, l in enumerate(target_logprobs) if i in front_indices])\n",
    "                    disharmonic_surprisal = sum([2**(-l) for i, l in enumerate(target_logprobs) if i in back_indices])\n",
    "                    harmonic_surprisal = -np.log2(harmonic_surprisal)\n",
    "                    disharmonic_surprisal = -np.log2(disharmonic_surprisal)\n",
    "                    ff_surprisal.append(harmonic_surprisal)\n",
    "                    fb_surprisal.append(disharmonic_surprisal)\n",
    "                # neutral\n",
    "                if v1 in neutral_vowels:\n",
    "                    target_logprobs = logprobs_word[target_idx]\n",
    "                    harmonic_surprisal = sum([2**(-l) for i, l in enumerate(target_logprobs) if i in front_indices])\n",
    "                    disharmonic_surprisal = sum([2**(-l) for i, l in enumerate(target_logprobs) if i in back_indices])\n",
    "                    neutral_surprisal = sum([2**(-l) for i, l in enumerate(target_logprobs) if i in neutral_indices])\n",
    "                    harmonic_surprisal = -np.log2(harmonic_surprisal)\n",
    "                    disharmonic_surprisal = -np.log2(disharmonic_surprisal)\n",
    "                    neutral_surprisal = -np.log2(neutral_surprisal)\n",
    "                    nf_surprisal.append(harmonic_surprisal)\n",
    "                    nb_surprisal.append(disharmonic_surprisal)\n",
    "                    nn_surprisal.append(neutral_surprisal)\n",
    "                # back\n",
    "                elif v2 in back_vowels:\n",
    "                    target_logprobs = logprobs_word[target_idx]\n",
    "                    harmonic_surprisal = sum([2**(-l) for i, l in enumerate(target_logprobs) if i in back_indices])\n",
    "                    disharmonic_surprisal = sum([2**(-l) for i, l in enumerate(target_logprobs) if i in front_indices])\n",
    "                    harmonic_surprisal = -np.log2(harmonic_surprisal)\n",
    "                    disharmonic_surprisal = -np.log2(disharmonic_surprisal)\n",
    "                    bb_surprisal.append(harmonic_surprisal)\n",
    "                    bf_surprisal.append(disharmonic_surprisal)\n",
    "\n",
    "    if len(vowel_indices) >= 3:\n",
    "        for i in range(len(vowel_indices)-1, 0, -1):\n",
    "            i1, i2, i3 = vowel_indices[i-2], vowel_indices[i-1], vowel_indices[i]\n",
    "            v1, v2, v3 = output_alphabet.idx2char(i1), output_alphabet.idx2char(i2), output_alphabet.idx2char(i3)\n",
    "            target_idx = indices_word[i]\n",
    "\n",
    "            if not clts_ds.bipa[v1].type == 'diphthong' \\\n",
    "            and not clts_ds.bipa[v2].type == 'diphthong' \\\n",
    "            and not clts_ds.bipa[v3].type == 'diphthong':\n",
    "            \n",
    "                if v1 in front_vowels and v2 in neutral_vowels:\n",
    "                    target_logprobs = logprobs_word[target_idx]\n",
    "                    harmonic_surprisal = sum([2**(-l) for i, l in enumerate(target_logprobs) if i in front_indices])\n",
    "                    disharmonic_surprisal = sum([2**(-l) for i, l in enumerate(target_logprobs) if i in back_indices])\n",
    "                    harmonic_surprisal = -np.log2(harmonic_surprisal)\n",
    "                    disharmonic_surprisal = -np.log2(disharmonic_surprisal)\n",
    "                    fnf_surprisal.append(harmonic_surprisal)\n",
    "                    fnb_surprisal.append(disharmonic_surprisal)\n",
    "\n",
    "                elif v1 in back_vowels and v2 in neutral_vowels:\n",
    "                    target_logprobs = logprobs_word[target_idx]\n",
    "                    harmonic_surprisal = sum([2**(-l) for i, l in enumerate(target_logprobs) if i in back_indices])\n",
    "                    disharmonic_surprisal = sum([2**(-l) for i, l in enumerate(target_logprobs) if i in front_indices])\n",
    "                    harmonic_surprisal = -np.log2(harmonic_surprisal)\n",
    "                    disharmonic_surprisal = -np.log2(disharmonic_surprisal)\n",
    "                    bnb_surprisal.append(harmonic_surprisal)\n",
    "                    bnf_surprisal.append(disharmonic_surprisal)\n",
    "\n",
    "                elif v1 in neutral_vowels and v2 in neutral_vowels:\n",
    "                    target_logprobs = logprobs_word[target_idx]\n",
    "                    harmonic_surprisal = sum([2**(-l) for i, l in enumerate(target_logprobs) if i in front_indices])\n",
    "                    disharmonic_surprisal = sum([2**(-l) for i, l in enumerate(target_logprobs) if i in back_indices])\n",
    "                    neutral_surprisal = sum([2**(-l) for i, l in enumerate(target_logprobs) if i in neutral_indices])\n",
    "                    harmonic_surprisal = -np.log2(harmonic_surprisal)\n",
    "                    disharmonic_surprisal = -np.log2(disharmonic_surprisal)\n",
    "                    neutral_surprisal = -np.log2(neutral_surprisal)\n",
    "                    nnf_surprisal.append(harmonic_surprisal)\n",
    "                    nnb_surprisal.append(disharmonic_surprisal)\n",
    "                    nnn_surprisal.append(neutral_surprisal)\n",
    "\n",
    "                \n",
    "n_ff = len(ff_surprisal)\n",
    "n_fb = len(fb_surprisal)\n",
    "n_bb = len(bb_surprisal)\n",
    "n_bf = len(bf_surprisal)\n",
    "n_nf = len(nf_surprisal)\n",
    "n_nb = len(nb_surprisal)\n",
    "n_nn = len(nn_surprisal)\n",
    "\n",
    "n_fnf = len(fnf_surprisal)\n",
    "n_fnb = len(fnb_surprisal)\n",
    "n_bnb = len(bnb_surprisal)\n",
    "n_bnf = len(bnf_surprisal)\n",
    "n_nnf = len(nnf_surprisal)\n",
    "n_nnb = len(nnb_surprisal)\n",
    "n_nnn = len(nnn_surprisal)\n",
    "\n",
    "front_harmonic_surprisal = ff_surprisal + bb_surprisal\n",
    "front_disharmonic_surprisal = fb_surprisal + bf_surprisal\n",
    "\n",
    "delta_mean_f = np.mean(ff_surprisal) - np.mean(fb_surprisal)\n",
    "delta_mean_b = np.mean(bb_surprisal) - np.mean(bf_surprisal)\n",
    "delta_mean_n = np.mean(nf_surprisal) - np.mean(nb_surprisal)\n",
    "delta_mean_disharmonic2 = np.mean(fb_surprisal) - np.mean(bf_surprisal)\n",
    "print(delta_mean_f)\n",
    "print(delta_mean_b)\n",
    "print(delta_mean_disharmonic2)\n",
    "\n",
    "delta_mean_fn = np.mean(fnf_surprisal) - np.mean(fnb_surprisal)\n",
    "print(delta_mean_fn)\n",
    "delta_mean_bn = np.mean(bnb_surprisal) - np.mean(bnf_surprisal)\n",
    "print(delta_mean_bn)\n",
    "delta_mean_nn = np.mean(nnf_surprisal) - np.mean(nnb_surprisal)\n",
    "print(len(nnf_surprisal)) # no items\n",
    "print(len(nnb_surprisal)) # no items\n",
    "print(delta_mean_nn) # NAN\n",
    "delta_mean_disharmonic3 = np.mean(fnb_surprisal) - np.mean(bnf_surprisal)"
   ],
   "outputs": [
    {
     "output_type": "stream",
     "name": "stdout",
     "text": [
      "-1.8211014946613266\n",
      "-0.6621043287509549\n",
      "0.39954589932025497\n",
      "-1.5546514936520412\n",
      "-0.4695121691863009\n",
      "0\n",
      "0\n",
      "nan\n"
     ]
    }
   ],
   "metadata": {}
  },
  {
   "cell_type": "code",
   "execution_count": 54,
   "source": [
    "print(shapiro(front_harmonic_surprisal))\n",
    "print(shapiro(front_disharmonic_surprisal))\n",
    "\n",
    "print(shapiro(ff_surprisal))\n",
    "print(shapiro(fb_surprisal))\n",
    "print(shapiro(bb_surprisal))\n",
    "print(shapiro(bf_surprisal))"
   ],
   "outputs": [
    {
     "output_type": "stream",
     "name": "stdout",
     "text": [
      "ShapiroResult(statistic=0.9433196187019348, pvalue=1.3127923637057393e-07)\n",
      "ShapiroResult(statistic=0.9666067957878113, pvalue=4.3403077143011615e-05)\n",
      "ShapiroResult(statistic=0.5844917297363281, pvalue=3.0201118298919805e-13)\n",
      "ShapiroResult(statistic=0.9569814801216125, pvalue=0.012273009866476059)\n",
      "ShapiroResult(statistic=0.9453513026237488, pvalue=1.66221634572139e-05)\n",
      "ShapiroResult(statistic=0.9209824800491333, pvalue=3.096469072261243e-07)\n"
     ]
    }
   ],
   "metadata": {}
  },
  {
   "cell_type": "code",
   "execution_count": 55,
   "source": [
    "# harmonic vs. disharmonic \n",
    "res = mann_whitney_test(front_harmonic_surprisal, front_disharmonic_surprisal)\n",
    "print(res)\n",
    "\n",
    "res = mann_whitney_test(fnf_surprisal+bnb_surprisal, fnb_surprisal+bnf_surprisal)\n",
    "print(res)\n",
    "\n",
    "print(np.mean(nf_surprisal+nb_surprisal) - np.mean(nn_surprisal))\n",
    "res = mann_whitney_test(nf_surprisal+nb_surprisal, nn_surprisal)\n",
    "print(res)\n",
    "\n",
    "# print(np.mean(nnf_surprisal+nnb_surprisal) - np.mean(nnn_surprisal))\n",
    "# res = mann_whitney_test(nnf_surprisal+nnb_surprisal, nnn_surprisal)\n",
    "# print(res)"
   ],
   "outputs": [
    {
     "output_type": "stream",
     "name": "stdout",
     "text": [
      "(8123.0, 2.4663643166699168e-34, -0.670359548737927)\n",
      "(45.0, 0.005452139856940547, -0.6000000000000001)\n",
      "-1.5183054139489984\n",
      "(142.0, 4.203491308278433e-09, -0.8052126200274348)\n"
     ]
    }
   ],
   "metadata": {}
  },
  {
   "cell_type": "code",
   "execution_count": 56,
   "source": [
    "# 2 vowels\n",
    "U, p_value_f, r = wilcoxon_signed_rank_test(ff_surprisal, fb_surprisal)\n",
    "print(\"atr\\_atr/atr\\_natr & {} &  {} & {} & {} & Wilcoxon \\\\\\\\\"\n",
    "    .format(round(delta_mean_f, 4), U, p_value_f, round(r, 4)))\n",
    "U, p_value_b, r = wilcoxon_signed_rank_test(bb_surprisal, bf_surprisal)\n",
    "print(\"natr\\_natr/natr\\_atr & {} & {} & {} & {} & Wilcoxon \\\\\\\\\"\n",
    "    .format(round(delta_mean_b, 4), U, p_value_b, round(r, 4)))\n",
    "U, p_value_n, r = wilcoxon_signed_rank_test(nf_surprisal, nb_surprisal)\n",
    "print(\"n\\_atr/n\\_natr & {} & {} & {} & {} & Wilcoxon \\\\\\\\\"\n",
    "    .format(round(delta_mean_n, 4), U, p_value_n, round(r, 4)))\n",
    "U, p_value, r = mann_whitney_test(fb_surprisal, bf_surprisal)\n",
    "print(\"atr\\_natr/natr\\_atr & {} & {} & {} & {} & Mann-Whitney \\\\\\\\\"\n",
    "    .format(round(delta_mean_disharmonic2, 4), U, p_value, round(r, 4)))"
   ],
   "outputs": [
    {
     "output_type": "stream",
     "name": "stdout",
     "text": [
      "atr\\_atr/atr\\_natr & -1.8211 &  27.0 & 1.552827464773496e-13 & 0.0095 & Wilcoxon \\\\\n",
      "natr\\_natr/natr\\_atr & -0.6621 & 1819.0 & 2.5547912616031906e-12 & 0.1672 & Wilcoxon \\\\\n",
      "n\\_atr/n\\_natr & -0.6531 & 91.0 & 0.018545904872989787 & 0.2407 & Wilcoxon \\\\\n",
      "atr\\_natr/natr\\_atr & 0.3995 & 7395.0 & 3.2120647003889135e-05 & 0.3415 & Mann-Whitney \\\\\n"
     ]
    }
   ],
   "metadata": {}
  },
  {
   "cell_type": "code",
   "execution_count": 57,
   "source": [
    "fig = plt.figure(figsize=(20, 8))\n",
    "gs = fig.add_gridspec(1, 1, hspace=0.15, wspace=0.25)\n",
    "ax = gs.subplots()\n",
    "\n",
    "ax.set_ylim([0,6.5])\n",
    "\n",
    "data = [\n",
    "    ff_surprisal, \n",
    "    fb_surprisal, \n",
    "    bb_surprisal, \n",
    "    bf_surprisal,\n",
    "    nf_surprisal, \n",
    "    nb_surprisal,\n",
    "    nn_surprisal\n",
    "]\n",
    "\n",
    "xlabels = [\n",
    "    \"atr_atr\\nN={}\".format(n_ff),\n",
    "    \"atr_natr\\nN={}\".format(n_fb),\n",
    "    \"natr_natr\\nN={}\".format(n_bb),\n",
    "    \"natr_atr\\nN={}\".format(n_bf),\n",
    "    \"n_atr\\nN={}\".format(n_nf),\n",
    "    \"n_natr\\nN={}\".format(n_nb),\n",
    "    \"n_n\\nN={}\".format(n_nn)\n",
    "]\n",
    "\n",
    "set_lang_ax(ax, data, xlabels, \n",
    "    # title='Finnish',\n",
    "    title=None,\n",
    "    boxcolor='lightgrey',\n",
    "    fontsize=fontsize,\n",
    "    ylabel=\"feature_surprisal\"\n",
    ")\n",
    "\n",
    "# significance front harmony violation\n",
    "level = get_significance_level(p_value_f)\n",
    "x1, x2 = 1, 2\n",
    "y, h, col = max(fb_surprisal + ff_surprisal) + 0.2, 0.2, 'k'\n",
    "plt.plot([x1, x1, x2, x2], [y, y+h, y+h, y], lw=3, c=col)\n",
    "plt.text((x1+x2)*.5, y+h, level, ha='center', va='bottom', color=col, fontsize=18)\n",
    "\n",
    "# significance back harmony violation\n",
    "level = get_significance_level(p_value_b)\n",
    "x1, x2 = 3, 4\n",
    "y, h, col = max(bb_surprisal + bf_surprisal) + 0.2, 0.2, 'k'\n",
    "plt.plot([x1, x1, x2, x2], [y, y+h, y+h, y], lw=3, c=col)\n",
    "plt.text((x1+x2)*.5, y+h, level, ha='center', va='bottom', color=col, fontsize=18)\n",
    "\n",
    "# significance neutral harmonic/disharmonic violation\n",
    "level = get_significance_level(p_value_n)\n",
    "x1, x2 = 5, 6\n",
    "y, h, col = max(nf_surprisal) + 0.2, 0.2, 'k'\n",
    "plt.plot([x1, x1, x2, x2], [y, y+h, y+h, y], lw=3, c=col)\n",
    "plt.text((x1+x2)*.5, y+h, level, ha='center', va='bottom', color=col, fontsize=15)\n",
    "\n",
    "# plt.savefig(\"../img/surprisal_front_neutral_harmony_fin.png\",\n",
    "plt.savefig(\"../img/surprisal_front2_harmony_khk.png\",\n",
    "        bbox_inches='tight',\n",
    "        pad_inches=0,\n",
    "        format='png',\n",
    "        dpi=300)"
   ],
   "outputs": [
    {
     "output_type": "display_data",
     "data": {
      "text/plain": [
       "<Figure size 1440x576 with 1 Axes>"
      ],
      "image/png": "[encoded data removed]"
     },
     "metadata": {
      "needs_background": "light"
     }
    }
   ],
   "metadata": {}
  },
  {
   "cell_type": "code",
   "execution_count": 58,
   "source": [
    "# 3 vowels\n",
    "U, p_value_fn, r = wilcoxon_signed_rank_test(fnf_surprisal, fnb_surprisal)\n",
    "print(\"f\\_n\\_f/f\\_n\\_b & {} &  {} & {} & {} & Wilcoxon \\\\\\\\\"\n",
    "    .format(round(delta_mean_fn, 4), U, p_value_fn, round(r, 4)))\n",
    "U, p_value_bn, r = wilcoxon_signed_rank_test(bnb_surprisal, bnf_surprisal)\n",
    "print(\"b\\_n\\_b/b\\_n\\_f & {} & {} & {} & {} & Wilcoxon \\\\\\\\\"\n",
    "    .format(round(delta_mean_bn, 4), U, p_value_bn, round(r, 4)))\n",
    "# U, p_value_nn, r = wilcoxon_signed_rank_test(nnf_surprisal, nnb_surprisal)\n",
    "# print(\"n\\_n\\_f/n\\_n\\_b & {} & {} & {} & {} \\\\\\\\\"\n",
    "#     .format(round(delta_mean_nn, 4), U, p_value_nn, round(r, 4)))\n",
    "# U, p_value, r = mann_whitney_test(fnb_surprisal, bnf_surprisal)\n",
    "print(\"f\\_n\\_b/b\\_n\\_f & {} & {} & {} & {} \\\\\\\\\"\n",
    "    .format(round(delta_mean_disharmonic3, 4), U, p_value, round(r, 4)))"
   ],
   "outputs": [
    {
     "output_type": "stream",
     "name": "stdout",
     "text": [
      "f\\_n\\_f/f\\_n\\_b & -1.5547 &  0.0 & 0.125 & 0.0 & Wilcoxon \\\\\n",
      "b\\_n\\_b/b\\_n\\_f & -0.4695 & 20.0 & 0.2783203125 & 0.303 & Wilcoxon \\\\\n",
      "f\\_n\\_b/b\\_n\\_f & 0.1846 & 20.0 & 3.2120647003889135e-05 & 0.303 \\\\\n"
     ]
    }
   ],
   "metadata": {}
  },
  {
   "cell_type": "code",
   "execution_count": 59,
   "source": [
    "# (too few instances)\n",
    "fig = plt.figure(figsize=(20, 8))\n",
    "gs = fig.add_gridspec(1, 1, hspace=0.15, wspace=0.25)\n",
    "ax = gs.subplots()\n",
    "\n",
    "ax.set_ylim([0,5.5])\n",
    "\n",
    "data = [\n",
    "    fnf_surprisal, \n",
    "    fnb_surprisal, \n",
    "    bnb_surprisal, \n",
    "    bnf_surprisal,\n",
    "    # nnf_surprisal, \n",
    "    # nnb_surprisal,\n",
    "    nnn_surprisal\n",
    "]\n",
    "\n",
    "xlabels = [\n",
    "    \"f_n_f\\nN={}\".format(n_fnf),\n",
    "    \"f_n_b\\nN={}\".format(n_fnb),\n",
    "    \"b_n_b\\nN={}\".format(n_bnb),\n",
    "    \"b_n_f\\nN={}\".format(n_bnf),\n",
    "    # \"n_n_f\\nN={}\".format(n_nnf),\n",
    "    # \"n_n_b\\nN={}\".format(n_nnb),\n",
    "    \"n_n_n\\nN={}\".format(n_nnn)\n",
    "]\n",
    "\n",
    "set_lang_ax(ax, data, xlabels, \n",
    "    # title='Finnish',\n",
    "    title=None,\n",
    "    ylabel=r\"feature_surprisal\",\n",
    "    boxcolor='lightgrey',\n",
    "    fontsize=18\n",
    ")\n",
    "\n",
    "# significance front harmony violation\n",
    "level = get_significance_level(p_value_fn)\n",
    "x1, x2 = 1, 2\n",
    "y, h, col = max(fnb_surprisal + fnf_surprisal) + 0.2, 0.2, 'k'\n",
    "plt.plot([x1, x1, x2, x2], [y, y+h, y+h, y], lw=3, c=col)\n",
    "plt.text((x1+x2)*.5, y+h, level, ha='center', va='bottom', color=col, fontsize=18)\n",
    "\n",
    "# significance back harmony violation\n",
    "level = get_significance_level(p_value_bn)\n",
    "x1, x2 = 3, 4\n",
    "y, h, col = max(bnb_surprisal + bnf_surprisal) + 0.2, 0.2, 'k'\n",
    "plt.plot([x1, x1, x2, x2], [y, y+h, y+h, y], lw=3, c=col)\n",
    "plt.text((x1+x2)*.5, y+h, level, ha='center', va='bottom', color=col, fontsize=18)\n",
    "\n",
    "# significance neutral harmonic/disharmonic violation\n",
    "# level = get_significance_level(p_value_nn)\n",
    "# x1, x2 = 5, 6\n",
    "# y, h, col = max(nnf_surprisal + nnb_surprisal) + 0.2, 0.2, 'k'\n",
    "# plt.plot([x1, x1, x2, x2], [y, y+h, y+h, y], lw=3, c=col)\n",
    "# plt.text((x1+x2)*.5, y+h, level, ha='center', va='bottom', color=col, fontsize=15)\n",
    "\n",
    "# plt.savefig(\"../img/surprisal_front_neutral_harmony_fin.png\",\n",
    "plt.savefig(\"../img/surprisal_front3_harmony_khk.png\",\n",
    "        bbox_inches='tight',\n",
    "        pad_inches=0,\n",
    "        format='png',\n",
    "        dpi=300)"
   ],
   "outputs": [
    {
     "output_type": "display_data",
     "data": {
      "text/plain": [
       "<Figure size 1440x576 with 1 Axes>"
      ],
      "image/png": "[encoded data removed]"
     },
     "metadata": {
      "needs_background": "light"
     }
    }
   ],
   "metadata": {}
  },
  {
   "cell_type": "code",
   "execution_count": 60,
   "source": [
    "unrounded_vowels = ['e', 'a', 'i']\n",
    "rounded_vowels = ['o', 'ɔ']\n",
    "neutral_vowels = ['u', 'ʊ', 'ɵ']\n",
    "\n",
    "# rounded_vowels = rounded_vowels + neutral_vowels\n",
    "\n",
    "# rounded_vowels = [v for v in output_alphabet.symbols if bipa[v].type == 'vowel' and 'rounded' in bipa[v].featureset] \n",
    "# unrounded_vowels = [v for v in output_alphabet.symbols if bipa[v].type == 'vowel' and 'unrounded' in bipa[v].featureset] \n",
    "\n",
    "print(rounded_vowels)\n",
    "print(unrounded_vowels)"
   ],
   "outputs": [
    {
     "output_type": "stream",
     "name": "stdout",
     "text": [
      "['o', 'ɔ']\n",
      "['e', 'a', 'i']\n"
     ]
    }
   ],
   "metadata": {}
  },
  {
   "cell_type": "code",
   "execution_count": 61,
   "source": [
    "# model probe rounded harmony (feature surprisal)\n",
    "\n",
    "rounded_indices = [output_alphabet.char2idx(v) for v in front_vowels]\n",
    "unrounded_indices = [output_alphabet.char2idx(v) for v in back_vowels]\n",
    "\n",
    "rr_surprisal = []\n",
    "uu_surprisal = []\n",
    "ur_surprisal = []\n",
    "ru_surprisal = []\n",
    "nr_surprisal = []\n",
    "nu_surprisal = []\n",
    "\n",
    "rounded_indices = [output_alphabet.char2idx(v) for v in rounded_vowels]\n",
    "unrounded_indices = [output_alphabet.char2idx(v) for v in unrounded_vowels]\n",
    "neutral_indices = [output_alphabet.char2idx(v) for v in neutral_vowels]\n",
    "\n",
    "\n",
    "for indices_word, targets_word, logprobs_word in zip(target_indices, targets, logprobs):\n",
    "    vowel_indices = [targets_word[idx] for idx in indices_word]\n",
    "    if len(vowel_indices) >= 2:\n",
    "        for i in range(len(vowel_indices)-1, 0, -1):\n",
    "            i1, i2 = vowel_indices[i-1], vowel_indices[i]\n",
    "            target_idx = indices_word[i] # first index of the logprobs\n",
    "            # need char to determine harmonic group\n",
    "            v1, v2 = output_alphabet.idx2char(i1), output_alphabet.idx2char(i2)\n",
    "\n",
    "            if not clts_ds.bipa[v1].type == 'diphthong' \\\n",
    "            and not clts_ds.bipa[v2].type == 'diphthong' \\\n",
    "            and v1 in back_vowels and v2 in back_vowels: # +atr harmony needs to apply for +-round harmony to operate \n",
    "\n",
    "                # round\n",
    "                if v1 in rounded_vowels :\n",
    "                    target_logprobs = logprobs_word[target_idx]\n",
    "                    harmonic_surprisal = sum([2**(-l) for i, l in enumerate(target_logprobs) if i in rounded_indices + neutral_indices])\n",
    "                    disharmonic_surprisal = sum([2**(-l) for i, l in enumerate(target_logprobs) if i in unrounded_indices])\n",
    "                    harmonic_surprisal = -np.log2(harmonic_surprisal)\n",
    "                    disharmonic_surprisal = -np.log2(disharmonic_surprisal)\n",
    "                    rr_surprisal.append(harmonic_surprisal)\n",
    "                    ru_surprisal.append(disharmonic_surprisal)\n",
    "                # neutral\n",
    "                if v1 in neutral_vowels:\n",
    "                    target_logprobs = logprobs_word[target_idx]\n",
    "                    harmonic_surprisal = sum([2**(-l) for i, l in enumerate(target_logprobs) if i in rounded_indices + neutral_indices])\n",
    "                    disharmonic_surprisal = sum([2**(-l) for i, l in enumerate(target_logprobs) if i in unrounded_indices])\n",
    "                    harmonic_surprisal = -np.log2(harmonic_surprisal)\n",
    "                    disharmonic_surprisal = -np.log2(disharmonic_surprisal)\n",
    "                    nr_surprisal.append(harmonic_surprisal)\n",
    "                    nu_surprisal.append(disharmonic_surprisal)\n",
    "                elif v1 in unrounded_vowels:\n",
    "                    target_logprobs = logprobs_word[target_idx]\n",
    "                    harmonic_surprisal = sum([2**(-l) for i, l in enumerate(target_logprobs) if i in unrounded_indices])\n",
    "                    # also look for neutral indices since they _do_ belong to the +ROUND group\n",
    "                    disharmonic_surprisal = sum([2**(-l) for i, l in enumerate(target_logprobs) if i in rounded_indices])\n",
    "                    harmonic_surprisal = -np.log2(harmonic_surprisal)\n",
    "                    disharmonic_surprisal = -np.log2(disharmonic_surprisal)\n",
    "                    uu_surprisal.append(harmonic_surprisal)\n",
    "                    ur_surprisal.append(disharmonic_surprisal)\n",
    "\n",
    "\n",
    "n_rr = len(rr_surprisal)\n",
    "n_ru = len(ru_surprisal)\n",
    "n_uu = len(uu_surprisal)\n",
    "n_ur = len(ur_surprisal)\n",
    "n_nr = len(nr_surprisal)\n",
    "n_nu = len(nu_surprisal)\n",
    "\n",
    "print(n_nr)\n",
    "print(n_nu)\n",
    "\n",
    "rounded_harmonic_surprisal = rr_surprisal + uu_surprisal\n",
    "rounded_disharmonic_surprisal = ru_surprisal + ur_surprisal\n",
    "\n",
    "delta_mean_r = np.mean(rr_surprisal) - np.mean(ru_surprisal)\n",
    "delta_mean_u = np.mean(uu_surprisal) - np.mean(ur_surprisal)\n",
    "delta_mean_disharmonic2 = np.mean(ru_surprisal) - np.mean(ur_surprisal)\n",
    "print(delta_mean_r)\n",
    "print(delta_mean_u)\n",
    "print(delta_mean_disharmonic2)"
   ],
   "outputs": [
    {
     "output_type": "stream",
     "name": "stdout",
     "text": [
      "44\n",
      "44\n",
      "-0.8522939153444691\n",
      "-2.0960989725472436\n",
      "-1.5526201651388933\n"
     ]
    }
   ],
   "metadata": {}
  },
  {
   "cell_type": "code",
   "execution_count": 62,
   "source": [
    "print(shapiro(rounded_harmonic_surprisal))\n",
    "print(shapiro(rounded_disharmonic_surprisal))\n",
    "\n",
    "print(shapiro(rr_surprisal))\n",
    "print(shapiro(ru_surprisal))\n",
    "print(shapiro(uu_surprisal))\n",
    "print(shapiro(ru_surprisal))"
   ],
   "outputs": [
    {
     "output_type": "stream",
     "name": "stdout",
     "text": [
      "ShapiroResult(statistic=0.8144214749336243, pvalue=5.373838041222712e-10)\n",
      "ShapiroResult(statistic=0.9619420766830444, pvalue=0.004949147813022137)\n",
      "ShapiroResult(statistic=0.8716369271278381, pvalue=0.0008866410353220999)\n",
      "ShapiroResult(statistic=0.9017308950424194, pvalue=0.005097974091768265)\n",
      "ShapiroResult(statistic=0.7752880454063416, pvalue=7.922324130049674e-09)\n",
      "ShapiroResult(statistic=0.9017308950424194, pvalue=0.005097974091768265)\n"
     ]
    }
   ],
   "metadata": {}
  },
  {
   "cell_type": "code",
   "execution_count": 63,
   "source": [
    "# harmonic vs. disharmonic \n",
    "res = mann_whitney_test(rounded_harmonic_surprisal, rounded_disharmonic_surprisal)\n",
    "print(res)\n",
    "\n",
    "# res = mann_whitney_test(fnf_surprisal+bnb_surprisal, fnb_surprisal+bnf_surprisal)\n",
    "# print(res)\n",
    "\n",
    "# print(np.mean(nr_surprisal+nu_surprisal) - np.mean(nn_surprisal))\n",
    "# res = mann_whitney_test(nr_surprisal+nu_surprisal, nn_surprisal)\n",
    "# print(res)\n",
    "\n",
    "# print(np.mean(nnf_surprisal+nnb_surprisal) - np.mean(nnn_surprisal))\n",
    "# res = mann_whitney_test(nnf_surprisal+nnb_surprisal, nnn_surprisal)\n",
    "# print(res)"
   ],
   "outputs": [
    {
     "output_type": "stream",
     "name": "stdout",
     "text": [
      "(881.0, 1.2053353644990134e-24, -0.8306420607458669)\n"
     ]
    }
   ],
   "metadata": {}
  },
  {
   "cell_type": "code",
   "execution_count": 64,
   "source": [
    "# significance tests +-ROUND harmony, 2 vowels\n",
    "U, p_value_r, r = wilcoxon_signed_rank_test(rr_surprisal, ru_surprisal)\n",
    "print(\"r\\_r/r\\_u & {} &  {} & {} & {} & Wilcoxon \\\\\\\\\"\n",
    "    .format(round(delta_mean_f, 4), U, p_value_r, round(r, 4)))\n",
    "U, p_value_u, r = wilcoxon_signed_rank_test(uu_surprisal, ur_surprisal)\n",
    "print(\"u\\_u/u\\_r & {} & {} & {} & {} & Wilcoxon \\\\\\\\\"\n",
    "    .format(round(delta_mean_b, 4), U, p_value_u, round(r, 4)))\n",
    "# U, p_value_n, r = wilcoxon_signed_rank_test(nr_surprisal, nu_surprisal)\n",
    "# print(\"n\\_r/n\\_u & {} & {} & {} & {} & Wilcoxon \\\\\\\\\"\n",
    "#     .format(round(delta_mean_n, 4), U, p_value_n, round(r, 4)))\n",
    "U, p_value, r = mann_whitney_test(ru_surprisal, ur_surprisal)\n",
    "print(\"r\\_u/u\\_r & {} & {} & {} & {} & Mann-Whitney \\\\\\\\\"\n",
    "    .format(round(delta_mean_disharmonic2, 4), U, p_value, round(r, 4)))"
   ],
   "outputs": [
    {
     "output_type": "stream",
     "name": "stdout",
     "text": [
      "r\\_r/r\\_u & -1.8211 &  2.0 & 4.369501675470097e-07 & 0.0034 & Wilcoxon \\\\\n",
      "u\\_u/u\\_r & -0.6621 & 2.0 & 8.350593870721494e-13 & 0.0009 & Wilcoxon \\\\\n",
      "r\\_u/u\\_r & -1.5526 & 170.0 & 2.636813545561882e-12 & -0.8529 & Mann-Whitney \\\\\n"
     ]
    }
   ],
   "metadata": {}
  },
  {
   "cell_type": "code",
   "execution_count": 66,
   "source": [
    "fig = plt.figure(figsize=(12, 8))\n",
    "gs = fig.add_gridspec(1, 1, hspace=0.15, wspace=0.25)\n",
    "ax = gs.subplots()\n",
    "\n",
    "ax.set_ylim([0,6.5])\n",
    "\n",
    "data = [\n",
    "    rr_surprisal,\n",
    "    ru_surprisal, \n",
    "    uu_surprisal,\n",
    "    ur_surprisal\n",
    "    # nr_surprisal,\n",
    "    # nu_surprisal\n",
    "]\n",
    "xlabels = [\n",
    "    \"r_r\\nN={}\".format(n_rr),\n",
    "    \"r_u\\nN={}\".format(n_ru),\n",
    "    \"u_u\\nN={}\".format(n_uu),\n",
    "    \"u_r\\nN={}\".format(n_ur)\n",
    "    # \"n_r\\nN={}\".format(n_nr),\n",
    "    # \"n_u\\nN={}\".format(n_nu)\n",
    "]\n",
    "\n",
    "set_lang_ax(ax, data, xlabels, \n",
    "    # title='Turkish',\n",
    "    title=None,\n",
    "    boxcolor='lightgrey',\n",
    "    fontsize=fontsize,\n",
    "    ylabel=\"feature_surprisal\"\n",
    ")\n",
    "\n",
    "# significance rounded/unrounded violation\n",
    "level = get_significance_level(p_value_r)\n",
    "x1, x2 = 1, 2\n",
    "y, h, col = max(ru_surprisal + rr_surprisal) + 0.2, 0.2, 'k'\n",
    "plt.plot([x1, x1, x2, x2], [y, y+h, y+h, y], lw=3, c=col)\n",
    "plt.text((x1+x2)*.5, y+h, level, ha='center', va='bottom', color=col, fontsize=15)\n",
    "\n",
    "# significance rounded/unrounded violation\n",
    "level = get_significance_level(p_value_u)\n",
    "x1, x2 = 3, 4\n",
    "y, h, col = max(uu_surprisal + ur_surprisal) + 0.2, 0.2, 'k'\n",
    "plt.plot([x1, x1, x2, x2], [y, y+h, y+h, y], lw=3, c=col)\n",
    "plt.text((x1+x2)*.5, y+h, level, ha='center', va='bottom', color=col, fontsize=15)\n",
    "\n",
    "# level = get_significance_level(p_value_n)\n",
    "# x1, x2 = 5, 6\n",
    "# y, h, col = max(uu_surprisal + ur_surprisal) + 0.2, 0.2, 'k'\n",
    "# plt.plot([x1, x1, x2, x2], [y, y+h, y+h, y], lw=3, c=col)\n",
    "# plt.text((x1+x2)*.5, y+h, level, ha='center', va='bottom', color=col, fontsize=15)\n",
    "\n",
    "plt.savefig(\"../img/surprisal_rounded2_harmony_khk.png\",\n",
    "# plt.savefig(\"../img/surprisal_rounded_harmony_khk.png\",\n",
    "            bbox_inches='tight',\n",
    "            pad_inches=0,\n",
    "            format='png',\n",
    "            dpi=300)"
   ],
   "outputs": [
    {
     "output_type": "display_data",
     "data": {
      "text/plain": [
       "<Figure size 864x576 with 1 Axes>"
      ],
      "image/png": "[encoded data removed]"
     },
     "metadata": {
      "needs_background": "light"
     }
    }
   ],
   "metadata": {}
  },
  {
   "cell_type": "code",
   "execution_count": null,
   "source": [
    "# significance tests +-BACK vs +-ROUND harmony\n",
    "delta_mean_front = np.mean(front_harmonic_surprisal) - np.mean(front_disharmonic_surprisal)\n",
    "delta_mean_rounded = np.mean(rounded_harmonic_surprisal) - np.mean(rounded_disharmonic_surprisal)\n",
    "delta_mean_disharmonic = np.mean(front_disharmonic_surprisal) - np.mean(rounded_disharmonic_surprisal)\n",
    "U, p_value, r = wilcoxon_signed_rank_test(front_harmonic_surprisal, front_disharmonic_surprisal)\n",
    "print(\"atr\\_h/dish & {} &  {} & {} & {} & Wilcoxon \\\\\\\\\".format(round(delta_mean_front, 4), U, p_value, round(r, 4)))\n",
    "U, p_value, r = wilcoxon_signed_rank_test(rounded_harmonic_surprisal, rounded_disharmonic_surprisal)\n",
    "print(\"r\\_h/dis & {} & {} & {} & {} & Wilcoxon \\\\\\\\\".format(round(delta_mean_rounded, 4), U, p_value, round(r, 4)))\n",
    "U, p_value, r = mann_whitney_test(front_disharmonic_surprisal, rounded_disharmonic_surprisal)\n",
    "print(\"atr/r\\_dish & {} & {} & {} & {} & Mann-Whitney \\\\\\\\\".format(round(delta_mean_disharmonic, 4), U, p_value, round(r, 4)))"
   ],
   "outputs": [
    {
     "output_type": "stream",
     "name": "stdout",
     "text": [
      "atr\\_h/dish & -1.0537 &  2337.5 & 1.0875297629840122e-25 & 0.0944 & Wilcoxon \\\\\n",
      "r\\_h/dis & -1.6815 & 6.0 & 2.1768751341009773e-18 & 0.0011 & Wilcoxon \\\\\n",
      "atr/r\\_dish & -0.3697 & 8941.0 & 0.0023675180205198734 & -0.2103 & Mann-Whitney \\\\\n"
     ]
    }
   ],
   "metadata": {}
  },
  {
   "cell_type": "code",
   "execution_count": null,
   "source": [
    "fontsize=18"
   ],
   "outputs": [],
   "metadata": {}
  },
  {
   "cell_type": "code",
   "execution_count": null,
   "source": [
    "fig = plt.figure(figsize=(12, 8))\n",
    "gs = fig.add_gridspec(1, 1, hspace=0.15, wspace=0.25)\n",
    "ax = gs.subplots()\n",
    "\n",
    "ax.set_ylim([0,6.5])\n",
    "\n",
    "data = [\n",
    "    front_harmonic_surprisal,\n",
    "    front_disharmonic_surprisal,\n",
    "    rounded_harmonic_surprisal,\n",
    "    rounded_disharmonic_surprisal\n",
    "]\n",
    "xlabels = [\n",
    "    \"atr_h\\nN={}\".format(len(front_harmonic_surprisal)),\n",
    "    \"atr_dish\\nN={}\".format(len(front_disharmonic_surprisal)),\n",
    "    \"round_h\\nN={}\".format(len(rounded_harmonic_surprisal)),\n",
    "    \"round_dish\\nN={}\".format(len(rounded_disharmonic_surprisal))\n",
    "]\n",
    "\n",
    "set_lang_ax(ax, data, xlabels, \n",
    "    title=None,\n",
    "    boxcolor='lightgrey',\n",
    "    fontsize=fontsize,\n",
    "    ylabel=\"feature_surprisal\"\n",
    ")\n",
    "\n",
    "# significance front harmonic/disharmonic\n",
    "x1, x2 = 1, 2\n",
    "y, h, col = max(front_disharmonic_surprisal) + 0.2, 0.2, 'k'\n",
    "plt.plot([x1, x1, x2, x2], [y, y+h, y+h, y], lw=1.5, c=col)\n",
    "plt.text((x1+x2)*.5, y+h, r\"$\\bf{**}$\", ha='center', va='bottom', color=col, fontsize=15)\n",
    "\n",
    "# significance rounded harmonic/disharmonic\n",
    "x1, x2 = 3, 4\n",
    "y, h, col = max(rounded_disharmonic_surprisal) + 0.2, 0.2, 'k'\n",
    "plt.plot([x1, x1, x2, x2], [y, y+h, y+h, y], lw=1.5, c=col)\n",
    "plt.text((x1+x2)*.5, y+h, r\"$\\bf{**}$\", ha='center', va='bottom', color=col, fontsize=15)\n",
    "\n",
    "plt.savefig(\"../img/surprisal_harmonic_disharmonic2_khk.png\",\n",
    "        bbox_inches='tight',\n",
    "        pad_inches=0,\n",
    "        format='png',\n",
    "        dpi=300)"
   ],
   "outputs": [
    {
     "output_type": "display_data",
     "data": {
      "text/plain": [
       "<Figure size 864x576 with 1 Axes>"
      ],
      "image/png": "[encoded data removed]"
     },
     "metadata": {
      "needs_background": "light"
     }
    }
   ],
   "metadata": {}
  }
 ],
 "metadata": {
  "interpreter": {
   "hash": "1e1370a0257593aa7a1e6890fbe67f267b399c96ad7c3d275027d446a8086286"
  },
  "kernelspec": {
   "name": "python3",
   "display_name": "Python 3.8.10 64-bit ('mt': conda)"
  },
  "language_info": {
   "codemirror_mode": {
    "name": "ipython",
    "version": 3
   },
   "file_extension": ".py",
   "mimetype": "text/x-python",
   "name": "python",
   "nbconvert_exporter": "python",
   "pygments_lexer": "ipython3",
   "version": "3.8.10"
  },
  "orig_nbformat": 4
 },
 "nbformat": 4,
 "nbformat_minor": 2
}